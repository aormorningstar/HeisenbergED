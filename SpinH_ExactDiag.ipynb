{
 "cells": [
  {
   "cell_type": "markdown",
   "metadata": {},
   "source": [
    "# Exact Diagonalization of Spin Hamiltonian\n",
    "    Alan Morningstar\n",
    "    May 2017"
   ]
  },
  {
   "cell_type": "markdown",
   "metadata": {},
   "source": [
    "#### specify lattice and Hamiltonian parameters"
   ]
  },
  {
   "cell_type": "code",
   "execution_count": 1,
   "metadata": {
    "collapsed": false
   },
   "outputs": [],
   "source": [
    "# NOTE: using periodic boundary conditions\n",
    "# square lattice length\n",
    "const Lx = 4;\n",
    "const Ly = 4;\n",
    "# number of sites\n",
    "const N = Lx*Ly;\n",
    "# NN coupling\n",
    "const J1 = 1.0;\n",
    "# NNN coupling\n",
    "const J2 = 0.0;\n",
    "# plaquette coupling\n",
    "const K = 0.0;"
   ]
  },
  {
   "cell_type": "code",
   "execution_count": 2,
   "metadata": {
    "collapsed": false
   },
   "outputs": [],
   "source": [
    "# container for Hamiltonian couplings\n",
    "type couplings\n",
    "    # 1st nearest neighbor\n",
    "    J1::Float64;\n",
    "    # 2nd nearest neighbor\n",
    "    J2::Float64;\n",
    "    # plaquette terms\n",
    "    K::Float64;\n",
    "end;"
   ]
  },
  {
   "cell_type": "code",
   "execution_count": 3,
   "metadata": {
    "collapsed": true
   },
   "outputs": [],
   "source": [
    "const c = couplings(J1,J2,K);"
   ]
  },
  {
   "cell_type": "markdown",
   "metadata": {},
   "source": [
    "## Lattice and Bond Structure"
   ]
  },
  {
   "cell_type": "markdown",
   "metadata": {},
   "source": [
    "#### useful functions for defining the lattice connectivity"
   ]
  },
  {
   "cell_type": "code",
   "execution_count": 4,
   "metadata": {
    "collapsed": false
   },
   "outputs": [],
   "source": [
    "# convert single integer site index to xy indexing\n",
    "function xyIndex(site::Int64,Lx::Int64,Ly::Int64)\n",
    "    # site - number of the site for which x,y indices are computed\n",
    "\n",
    "    y::Int,x::Int = divrem(site-1,Lx);\n",
    "    \n",
    "    return x,y;\n",
    "end;"
   ]
  },
  {
   "cell_type": "code",
   "execution_count": 5,
   "metadata": {
    "collapsed": false
   },
   "outputs": [],
   "source": [
    "# convert xy site indexing to single integer index\n",
    "function siteIndex(xy::Tuple{Int,Int},Lx::Int64,Ly::Int64)\n",
    "    # xy - tuple containing x,y indexing of a site\n",
    "\n",
    "    x = xy[1];\n",
    "    y = xy[2];\n",
    "    \n",
    "    # move xy into primary lattice cell\n",
    "    while x > (Lx-1)\n",
    "        x -= Lx;\n",
    "    end;\n",
    "    while x < 0\n",
    "        x += Lx;\n",
    "    end;\n",
    "    while y > (Ly-1)\n",
    "        y -= Ly;\n",
    "    end;\n",
    "    while y < 0\n",
    "        y += Ly;\n",
    "    end;    \n",
    "    \n",
    "    # map to integer index\n",
    "    site::Int64 = y*Lx + x + 1;\n",
    "    \n",
    "    return site;\n",
    "end;"
   ]
  },
  {
   "cell_type": "code",
   "execution_count": 6,
   "metadata": {
    "collapsed": false
   },
   "outputs": [],
   "source": [
    "# find indices of neighbors specified by a translation vectors T\n",
    "function neighbors(site::Int64,T::Array{Tuple{Int64,Int64},1},Lx::Int64,Ly::Int64)\n",
    "    # use xy indexing just to compute neighbors\n",
    "    x::Int,y::Int = xyIndex(site,Lx,Ly);\n",
    "\n",
    "    # neighbor in xy indexing\n",
    "    neighborxy::Array{Tuple{Int,Int},1} = [(x+t[1],y+t[2]) for t in T];\n",
    "    \n",
    "    # back to single integer indexing\n",
    "    neighborIndex::Array{Int,1} = [siteIndex(nxy,Lx,Ly) for nxy in neighborxy];\n",
    "    \n",
    "    # return neighbor index\n",
    "    return neighborIndex;\n",
    "end;"
   ]
  },
  {
   "cell_type": "markdown",
   "metadata": {},
   "source": [
    "#### define the lattice"
   ]
  },
  {
   "cell_type": "code",
   "execution_count": 7,
   "metadata": {
    "collapsed": false
   },
   "outputs": [],
   "source": [
    "# neighbor (x,y) vectors, locating NN1,NN2,NNN1,NNN2\n",
    "const neighborVectors = [(1,0),(0,1),(1,-1),(1,1)];"
   ]
  },
  {
   "cell_type": "code",
   "execution_count": 8,
   "metadata": {
    "collapsed": true
   },
   "outputs": [],
   "source": [
    "# container for lattice properties\n",
    "type lattice\n",
    "    # size of lattice, number of sites\n",
    "    Lx::Int64;\n",
    "    Ly::Int64;\n",
    "    N::Int64;\n",
    "    nbrs::Array{Array{Int64,1},1};\n",
    "    \n",
    "    function lattice(Lx::Int64,Ly::Int64,neighborVectors::Array{Tuple{Int64,Int64},1})\n",
    "        neighborsList = [neighbors(site,neighborVectors,Lx,Ly) for site in 1:N];\n",
    "        new(Lx,Ly,Lx*Ly,neighborsList);\n",
    "    end;\n",
    "end;"
   ]
  },
  {
   "cell_type": "code",
   "execution_count": 9,
   "metadata": {
    "collapsed": true
   },
   "outputs": [],
   "source": [
    "const l = lattice(Lx,Ly,neighborVectors);"
   ]
  },
  {
   "cell_type": "code",
   "execution_count": 10,
   "metadata": {
    "collapsed": true
   },
   "outputs": [],
   "source": [
    "# plaquette sites corresponding to a given site in the bottom left of the plaquette\n",
    "# NOTE: there is no need to compute (store) this with a seperate function (table), the plaquette spins are given by:\n",
    "#\n",
    "# p1 = site, p2,p3 = NN[site], p4 = NNN[site][2]\n",
    "#\n",
    "# p3--p4\n",
    "# |   |\n",
    "# p1--p2"
   ]
  },
  {
   "cell_type": "markdown",
   "metadata": {},
   "source": [
    "## Build $(S_z,k_x,k_y)$ Symmetry Sector Basis\n",
    "Note: see Sandvik's Computational Studies of Quantum Spin Systems"
   ]
  },
  {
   "cell_type": "markdown",
   "metadata": {},
   "source": [
    "#### specify symmetry sector"
   ]
  },
  {
   "cell_type": "code",
   "execution_count": 11,
   "metadata": {
    "collapsed": false
   },
   "outputs": [],
   "source": [
    "# choose Sz sector by specifying number of 1s in basis states\n",
    "const n1 = convert(Int,N/2);\n",
    "# choose kx,ky by specifying mi such that ki=2*pi*mi/Li where i=x,y ... mi is in 0:Li-1\n",
    "const mx = 0;\n",
    "const my = 0;\n",
    "const kx = 2*pi*mx/Lx;\n",
    "const ky = 2*pi*my/Ly;"
   ]
  },
  {
   "cell_type": "code",
   "execution_count": 12,
   "metadata": {
    "collapsed": false
   },
   "outputs": [],
   "source": [
    "# container for symmetry sector\n",
    "type sector\n",
    "    # number of 1 bits in the bit rep. of spin states in this sector\n",
    "    n1::Int64;\n",
    "    # momentum\n",
    "    kx::Float64;\n",
    "    ky::Float64;\n",
    "end;"
   ]
  },
  {
   "cell_type": "code",
   "execution_count": 13,
   "metadata": {
    "collapsed": false
   },
   "outputs": [],
   "source": [
    "const s = sector(n1,kx,ky);"
   ]
  },
  {
   "cell_type": "markdown",
   "metadata": {},
   "source": [
    "#### defining some useful functions for this section"
   ]
  },
  {
   "cell_type": "code",
   "execution_count": 14,
   "metadata": {
    "collapsed": false
   },
   "outputs": [],
   "source": [
    "# map integer to array of spins\n",
    "function intToSpins(i::Int64,l::lattice)\n",
    "    return digits(Int8,i,2,l.N)::Array{Int8,1};\n",
    "end;\n",
    "\n",
    "# map array of spins to integer\n",
    "function spinsToInt(spins::Array{Int8,1})\n",
    "    i::Int64 = 0;\n",
    "    for (ii,s) in enumerate(spins)\n",
    "        i += s*2^(ii-1);\n",
    "    end;\n",
    "    return i;\n",
    "end;"
   ]
  },
  {
   "cell_type": "code",
   "execution_count": 15,
   "metadata": {
    "collapsed": false
   },
   "outputs": [],
   "source": [
    "# x translation operator\n",
    "function Tx!(spins::Array{Int8,1},l::lattice)\n",
    "    # loop over rows of the lattice\n",
    "    for y::Int in 0:l.Ly-1\n",
    "        # store last element of the row\n",
    "        temp::Int8 = spins[(y+1)*l.Lx];\n",
    "        # roll the row\n",
    "        for x::Int in l.Lx-1:-1:1\n",
    "            spins[y*l.Lx+1+x] = spins[y*l.Lx+x];\n",
    "        end;\n",
    "        # take care of the first element\n",
    "        spins[y*l.Lx+1] = temp;\n",
    "    end;\n",
    "    \n",
    "    return spins;\n",
    "end;\n",
    "\n",
    "# y translation operator\n",
    "function Ty!(spins::Array{Int8,1},l::lattice)\n",
    "    # store the top row\n",
    "    temp::Array{Int,1} = spins[(l.Ly-1)*l.Lx+1:l.Ly*l.Lx];\n",
    "    # loop over rows of the lattice\n",
    "    for y::Int in l.Ly-1:-1:1\n",
    "        spins[y*l.Lx+1:(y+1)*l.Lx] = spins[(y-1)*l.Lx+1:y*l.Lx];\n",
    "    end;\n",
    "    # replace bottom row with initial value of top row\n",
    "    spins[1:l.Lx] = temp;\n",
    "    \n",
    "    return spins;\n",
    "end;"
   ]
  },
  {
   "cell_type": "code",
   "execution_count": 16,
   "metadata": {
    "collapsed": false
   },
   "outputs": [],
   "source": [
    "# function for computing the normalization constant Na such that the momentum state is 1/sqrt(Na) * sum(phase * TxTy |b>)\n",
    "function normConstant(b::Int64,l::lattice,s::sector)\n",
    "    # spin config corresponding to b\n",
    "    spins::Array{Int8,1} = intToSpins(b,l);\n",
    "    \n",
    "    # sum of phases\n",
    "    F::Complex128 = 0.0+0.0im;\n",
    "    # normalization constant\n",
    "    Na::Float64 = 0.0;\n",
    "\n",
    "    # the translated state in integer rep.\n",
    "    Tb::Int64 = b;\n",
    "    # set of unique translated states in integer rep.\n",
    "    Tbs::Set{Int64} = Set{Int64}();\n",
    "    \n",
    "    \n",
    "    # perform all translations\n",
    "    for y in 0:l.Ly-1\n",
    "        for x in 0:l.Lx-1\n",
    "            # add to set of translated states\n",
    "            Tb = spinsToInt(spins);\n",
    "            push!(Tbs,Tb);\n",
    "            \n",
    "            if Tb == b\n",
    "                # add to sum of phases\n",
    "                F += exp(-1.0im*(s.kx*x+s.ky*y));\n",
    "            elseif Tb < b\n",
    "                return 0.0\n",
    "            end;\n",
    "            \n",
    "            Tx!(spins,l);\n",
    "\n",
    "        end;\n",
    "        \n",
    "        Ty!(spins,l);\n",
    "        \n",
    "    end;\n",
    "    \n",
    "    # compute and return normalization constant\n",
    "    Na = abs2(F)*length(Tbs);\n",
    "    \n",
    "    return Na;\n",
    "end;"
   ]
  },
  {
   "cell_type": "markdown",
   "metadata": {},
   "source": [
    "#### construct the basis"
   ]
  },
  {
   "cell_type": "code",
   "execution_count": 17,
   "metadata": {
    "collapsed": false
   },
   "outputs": [],
   "source": [
    "type SzkxkyBasis\n",
    "    # list of representatives of momentum basis states in integer representation\n",
    "    b::Array{Int64};\n",
    "    # list of corresponding normalization constants\n",
    "    n::Array{Float64};\n",
    "    # dimension of Hilbert space\n",
    "    dim::Int64;\n",
    "    \n",
    "    # constructor\n",
    "    function SzkxkyBasis(l::lattice,s::sector)\n",
    "        # initialize list of reps of momentum basis elements\n",
    "        bList::Array{Int64,1} = Int64[];\n",
    "        # initialize list of normalization constants\n",
    "        nList::Array{Float64,1} = Float64[];\n",
    "\n",
    "        # run up the binary odometer of Sz states\n",
    "        # start with first n1 bits in state 1(down)\n",
    "        b::Int64 = 2^n1-1;\n",
    "        sb::Array{Int8,1} = intToSpins(b,l);\n",
    "\n",
    "        # useful Int8 versions of 0 and 1\n",
    "        Int80 = convert(Int8,0);\n",
    "        Int81 = convert(Int8,1);\n",
    "\n",
    "        while true\n",
    "            # check if this state meets the required kx,ky\n",
    "            n = normConstant(b,l,s);\n",
    "\n",
    "            # if valid rep state, add info to basis\n",
    "            if n > 0.0\n",
    "                push!(bList,b);\n",
    "                push!(nList,n);\n",
    "            end;\n",
    "\n",
    "            # counter of 1 bits to the right (in binary convention)\n",
    "            i::Int = 0;\n",
    "            # position in bit array\n",
    "            j::Int = 1;\n",
    "            while j < l.N\n",
    "                # find a 1 bit whose following neighbor is 0\n",
    "                if sb[j] == Int81\n",
    "                    if sb[j+1] == Int81\n",
    "                        i += 1;\n",
    "                    else\n",
    "                        sb[1:i] = Int81;\n",
    "                        sb[i+1:j] = Int80;\n",
    "                        sb[j+1] = Int81;\n",
    "                        break\n",
    "                    end;\n",
    "                end;\n",
    "                # to the next bit\n",
    "                j += 1;\n",
    "            end;\n",
    "\n",
    "            # if all 1s got shifted completely to the left, then all states are explored\n",
    "            if j == l.N\n",
    "                break\n",
    "            end;\n",
    "\n",
    "            # update integer rep. of basis state\n",
    "            b = spinsToInt(sb);\n",
    "        end;\n",
    "        \n",
    "        # construct basis\n",
    "        new(bList,nList,length(bList));\n",
    "    end;\n",
    "    \n",
    "end;"
   ]
  },
  {
   "cell_type": "code",
   "execution_count": 18,
   "metadata": {
    "collapsed": false
   },
   "outputs": [
    {
     "name": "stdout",
     "output_type": "stream",
     "text": [
      "  "
     ]
    }
   ],
   "source": [
    "# construct the Sz,kx,ky sector basis\n",
    "# 38.6 seconds for 6x4 lattice\n",
    "@time const basis = SzkxkyBasis(l,s);\n",
    "print(\"Dimension of reduced Hilbert space is \",basis.dim,\".\");"
   ]
  },
  {
   "cell_type": "markdown",
   "metadata": {},
   "source": [
    "#### some more useful functions for working with this basis"
   ]
  },
  {
   "cell_type": "code",
   "execution_count": 19,
   "metadata": {
    "collapsed": false
   },
   "outputs": [],
   "source": [
    "# search ordered basis for index of integer representation of spin state\n",
    "function basisIndex(basisElement::Int64,basis::SzkxkyBasis)\n",
    "    bIndex::UnitRange{Int64} = searchsorted(basis.b,basisElement);\n",
    "    if !isempty(bIndex)\n",
    "        return bIndex[1]::Int64;\n",
    "    else\n",
    "        return 0::Int64;\n",
    "    end;\n",
    "end;"
   ]
  },
  {
   "cell_type": "code",
   "execution_count": 20,
   "metadata": {
    "collapsed": false
   },
   "outputs": [],
   "source": [
    "# find related representative state and what translation relates the two states\n",
    "function representative(b::Int64,l::lattice)\n",
    "    # bit array\n",
    "    spins::Array{Int8,1} = intToSpins(b,l);\n",
    "    # rep. state\n",
    "    rep::Int64 = b;\n",
    "    # translated state\n",
    "    Tb::Int64 = b;\n",
    "    # translations to get to rep. state\n",
    "    lx::Int64 = 0;\n",
    "    ly::Int64 = 0;\n",
    "    \n",
    "    # perform all translations\n",
    "    for y::Int in 0:l.Ly\n",
    "        for x::Int in 0:l.Lx\n",
    "            # translated state\n",
    "            Tb = spinsToInt(spins);\n",
    "            \n",
    "            if Tb < b\n",
    "                # then this is a better representative\n",
    "                rep = Tb;\n",
    "                lx = x;\n",
    "                ly = y;\n",
    "            end;\n",
    "            Tx!(spins,l);\n",
    "        end;\n",
    "        Ty!(spins,l);\n",
    "    end;\n",
    "    \n",
    "    return rep,lx,ly;\n",
    "end;"
   ]
  },
  {
   "cell_type": "markdown",
   "metadata": {},
   "source": [
    "## Sparse Hamiltonian\n",
    "$H=\\frac{1}{4} \\left( J_1 \\sum_{\\langle ij \\rangle} + J_2 \\sum_{\\langle \\langle ij \\rangle \\rangle} \\right) \\bf{\\sigma}_i \\cdot \\bf{\\sigma}_j + \\frac{1}{8} K \\sum_{p} \\left( \\bf{\\sigma}_{p_1} \\cdot \\bf{\\sigma}_{p_2} \\right) \\left( \\bf{\\sigma}_{p_3} \\cdot \\bf{\\sigma}_{p_4} \\right) + \\left( \\bf{\\sigma}_{p_1} \\cdot \\bf{\\sigma}_{p_3} \\right) \\left( \\bf{\\sigma}_{p_2} \\cdot \\bf{\\sigma}_{p_4} \\right) - \\left( \\bf{\\sigma}_{p_1} \\cdot \\bf{\\sigma}_{p_4} \\right) \\left( \\bf{\\sigma}_{p_2} \\cdot \\bf{\\sigma}_{p_3} \\right)$"
   ]
  },
  {
   "cell_type": "markdown",
   "metadata": {},
   "source": [
    "#### useful functions for manipulating states"
   ]
  },
  {
   "cell_type": "code",
   "execution_count": 21,
   "metadata": {
    "collapsed": true
   },
   "outputs": [],
   "source": [
    "# function for flipping two spins of a basis state\n",
    "function XiXj(b::Int64,i::Int64,j::Int64)\n",
    "    # b - integer rep of state\n",
    "    # i,j - sites of spin flips\n",
    "    \n",
    "    return (2^(i-1) + 2^(j-1)) $ b;\n",
    "end;\n",
    "\n",
    "# function for flipping four spins of a basis state\n",
    "function XiXjXkXl(b::Int64,i::Int,j::Int,k::Int,l::Int)\n",
    "    # b - integer rep of state\n",
    "    # i,j,k,l - sites of spin flips\n",
    "    \n",
    "    return (2^(i-1) + 2^(j-1) + 2^(k-1) + 2^(l-1)) $ b;\n",
    "end;"
   ]
  },
  {
   "cell_type": "markdown",
   "metadata": {},
   "source": [
    "#### functions for calculating matrix elements"
   ]
  },
  {
   "cell_type": "code",
   "execution_count": 22,
   "metadata": {
    "collapsed": true
   },
   "outputs": [],
   "source": [
    "# function for ZZ diagonal matrix element (same in spin basis and momentum basis)\n",
    "function HbZZb(sb::Array{Int8,1},i::Int64,nbrs::Array{Int64,1},c::couplings)\n",
    "    # sb - spin rep. of basis state\n",
    "    # i - site on lattice being looped over\n",
    "    # nbrs - list of neighbors of site i connected by ZZ bond\n",
    "    \n",
    "    # compute matrix element\n",
    "    # J1 terms\n",
    "    matElem::Complex128 = 0.25*c.J1*(-1)^(sb[i])*((-1)^(sb[nbrs[1]])+(-1)^(sb[nbrs[2]])) + 0.0im;\n",
    "    # J2 terms\n",
    "    matElem += 0.25*c.J2*(-1)^(sb[i])*((-1)^(sb[nbrs[3]])+(-1)^(sb[nbrs[4]]));\n",
    "    \n",
    "    return matElem;\n",
    "end;"
   ]
  },
  {
   "cell_type": "code",
   "execution_count": 23,
   "metadata": {
    "collapsed": false
   },
   "outputs": [],
   "source": [
    "# function for off-diagonal XX+YY matrix elements in momentum basis\n",
    "function HbXXpYYa(b::Int64,bIndex::Int64,i::Int64,j::Int64,J::Float64,basis::SzkxkyBasis,s::sector,l::lattice)\n",
    "    # bIndex - index of b in the basis\n",
    "    # i,j - sites of XXpYY operator\n",
    "    # J - J1 or J2 given\n",
    "    \n",
    "    # integer rep. of X_i X_j |b>\n",
    "    a::Int64 = XiXj(b,i,j);\n",
    "    # representative of state |a>\n",
    "    repa::Int64,lx::Int64,ly::Int64 = representative(a,l);\n",
    "    # index of rep. of state |a>\n",
    "    aIndex = basisIndex(repa,basis);\n",
    "    \n",
    "    # if not in the reduced basis, matrix element will be zero\n",
    "    if aIndex > 0\n",
    "        return aIndex,((0.5*J)*exp(-1.0im*(s.kx*lx+s.ky*ly))*sqrt(basis.n[aIndex]/basis.n[bIndex])+0.0im)::Complex128;\n",
    "    else\n",
    "        return 0,0.0+0.0im;\n",
    "    end;   \n",
    "end;"
   ]
  },
  {
   "cell_type": "code",
   "execution_count": 24,
   "metadata": {
    "collapsed": false
   },
   "outputs": [],
   "source": [
    "# function for all XXXX plaquette terms in momentum basis\n",
    "function HbXXpYYtXXpYYa(b::Int64,bIndex::Int64,p::Array{Int,1},sp::Array{Int8,1},basis::SzkxkyBasis,c::couplings,s::sector,l::lattice)\n",
    "    # integer rep. of X_i X_j X_k X_l |b>\n",
    "    a::Int64 = XiXjXkXl(b,p[1],p[2],p[3],p[4]);\n",
    "    # representative of |a>\n",
    "    repa::Int64,lx::Int64,ly::Int64 = representative(a,l);\n",
    "    # index of rep. of state |a>\n",
    "    aIndex = basisIndex(repa,basis);\n",
    "    \n",
    "    # a term that shows up in all matrix elements\n",
    "    plaqSign::Int = (-1)^(sum(sp));\n",
    "    \n",
    "    # compute matrix element in spin basis, three (S.S)(S.S) terms\n",
    "    preMatEl::Int = 1 + plaqSign;\n",
    "    preMatEl += -(-1)^(sp[1]+sp[2])-(-1)^(sp[3]+sp[4]);\n",
    "    preMatEl += -(-1)^(sp[1]+sp[3])-(-1)^(sp[2]+sp[4]);\n",
    "    preMatEl -= -(-1)^(sp[1]+sp[4])-(-1)^(sp[2]+sp[3]);\n",
    "    \n",
    "    # return momentum basis index of bra and matrix element\n",
    "    if aIndex > 0\n",
    "        return aIndex,((0.125*c.K*preMatEl)*exp(-1.0im*(s.kx*lx+s.ky*ly))*sqrt(basis.n[aIndex]/basis.n[bIndex])+0.0im)::Complex128;\n",
    "    else\n",
    "        return 0,0.0+0.0im;\n",
    "    end;\n",
    "end;"
   ]
  },
  {
   "cell_type": "code",
   "execution_count": 25,
   "metadata": {
    "collapsed": false
   },
   "outputs": [],
   "source": [
    "# function for all ZZZZ plaquette terms (same in spin and momentum basis')\n",
    "function HbZZZZb(sp::Array{Int8,1},c::couplings)\n",
    "    return ((0.125*c.K*(-1)^(sum(sp)))+0.0im)::Complex128;\n",
    "end;"
   ]
  },
  {
   "cell_type": "code",
   "execution_count": 26,
   "metadata": {
    "collapsed": false
   },
   "outputs": [],
   "source": [
    "# function for (XX+YY)ZZ plaq. terms ex: (XiXj+YiYj)ZkZl i.e. which reduced basis states (and with which matrix elements)\n",
    "# are connected by the Hamiltonian to state b, **momentum basis\n",
    "function HbXXpYYZZa(b::Int64,bIndex::Int64,p::Array{Int,1},sp::Array{Int8,1},basis::SzkxkyBasis,c::couplings,s::sector,l::lattice)\n",
    "    # p - a list of plaquette sites [pi,pj,pk,pl] in standard lattice order [bottom left, bottom right, top left, top right]\n",
    "    # sp - a list of plaquette spins [si,sj,sk,sl]\n",
    "    # K - coupling constant\n",
    "    \n",
    "    # a term that shows up in all matrix elements\n",
    "    plaqSign::Int = (-1)^(sum(sp));\n",
    "    \n",
    "    # reduced momentum basis indices and matrix elements for operators [XiXj,XkXl]\n",
    "    inds::Array{Int64,1} = Int64[];\n",
    "    matEls::Array{Complex128,1} = Complex128[];\n",
    "    \n",
    "    # fill with states and matrix elements\n",
    "    # t is (flip spin,flip spin,other spin,other spin,sign of matrix element)\n",
    "    for t in [(1,2,3,4,1),(3,4,1,2,1),(1,3,2,4,1),(2,4,1,3,1),(1,4,2,3,-1),(2,3,1,4,-1)]\n",
    "        # representative of two-spin-flipped |b>\n",
    "        repa::Int64,lx::Int64,ly::Int64 = representative(XiXj(b,p[t[1]],p[t[2]]),l);\n",
    "        # index of this representative in basis\n",
    "        aIndex::Int64 = basisIndex(repa,basis);\n",
    "        # compute matrix element\n",
    "        matEl::Complex128 = 0.0+0.0im;\n",
    "        if aIndex > 0\n",
    "            matEl = (t[5]*0.125*c.K*((-1)^(sp[t[3]]+sp[t[4]])-plaqSign)*exp(-1.0im*(s.kx*lx+s.ky*ly))*sqrt(basis.n[aIndex]/basis.n[bIndex])+0.0im)::Complex128;\n",
    "        end;\n",
    "        push!(inds,aIndex);\n",
    "        push!(matEls,matEl);\n",
    "    end;\n",
    "    \n",
    "    return inds,matEls;\n",
    "end;"
   ]
  },
  {
   "cell_type": "markdown",
   "metadata": {},
   "source": [
    "#### construct the sparse Hamiltonian"
   ]
  },
  {
   "cell_type": "code",
   "execution_count": 27,
   "metadata": {
    "collapsed": false
   },
   "outputs": [],
   "source": [
    "# function for building the sparse Hamiltonian\n",
    "function constructSparseHam(basis::SzkxkyBasis,c::couplings,s::sector,l::lattice)\n",
    "    # store location and value of non-zero matrix elements\n",
    "    I::Array{Int64} = Int64[];\n",
    "    J::Array{Int64} = Int64[];\n",
    "    M::Array{Complex128} = Complex128[];\n",
    "    \n",
    "    for bIndex::Int64 in 1:basis.dim\n",
    "        \n",
    "        b::Int64 = basis.b[bIndex]; # integer rep.\n",
    "        sb::Array{Int8,1} = intToSpins(b,l); # spin rep.\n",
    "\n",
    "        # run over operators in the Hamiltonian at each site of the lattice\n",
    "        for site::Int64 in 1:N\n",
    "            \n",
    "            # neighbors (having J1 J2 bonds to this site)\n",
    "            NN1::Int,NN2::Int,NNN1::Int,NNN2::Int = l.nbrs[site];\n",
    "            # plaquette p1,p2,p3,p3\n",
    "            p::Array{Int64,1} = [site,NN1,NN2,NNN2];\n",
    "            # spins of the plaquette\n",
    "            sp::Array{Int8,1} = [sb[pi] for pi in p];\n",
    "\n",
    "            \n",
    "            # 1) diagonal matrix element\n",
    "\n",
    "            # compute matrix element from J1 J2 K terms\n",
    "            diagMatEl::Complex128 = HbZZb(sb,site,l.nbrs[site],c) + HbZZZZb(sp,c) + 0.0im;\n",
    "\n",
    "            if diagMatEl != 0.0+0.0im\n",
    "                # fill H\n",
    "                push!(I,bIndex);\n",
    "                push!(J,bIndex);\n",
    "                push!(M,diagMatEl);\n",
    "                \n",
    "            end;\n",
    "\n",
    "            \n",
    "            # 2) off diagonal matrix elements\n",
    "\n",
    "            # NN1 & NN2 XX+YY J1 bonds\n",
    "            for nbr::Int64 in [NN1,NN2]\n",
    "                reducedXXbNN::Int64,offDiagHNN::Complex128 = HbXXpYYa(b,bIndex,site,nbr,J1,basis,s,l);\n",
    "\n",
    "                if reducedXXbNN > 0 && offDiagHNN != 0.0+0.0im\n",
    "                    # fill H\n",
    "                    push!(I,bIndex);\n",
    "                    push!(J,reducedXXbNN);\n",
    "                    push!(M,offDiagHNN);\n",
    "                end;\n",
    "            end;\n",
    "            \n",
    "            # NNN1 & NNN2 XX+YY J2 bonds\n",
    "            for nbr::Int in [NNN1,NNN2]\n",
    "                reducedXXbNNN,offDiagHNNN = HbXXpYYa(b,bIndex,site,nbr,J2,basis,s,l);\n",
    "\n",
    "                if reducedXXbNNN > 0 && offDiagHNNN != 0.0+0.0im\n",
    "                    # fill H\n",
    "                    push!(I,bIndex);\n",
    "                    push!(J,reducedXXbNNN);\n",
    "                    push!(M,offDiagHNNN);\n",
    "                end;\n",
    "            end;\n",
    "            \n",
    "            \n",
    "            # 3) ring exchange terms\n",
    "            \n",
    "            # XXXX term\n",
    "            reducedXXXXb::Int,matElemXXXX::Complex128 = HbXXpYYtXXpYYa(b,bIndex,p,sp,basis,c,s,l);\n",
    "            \n",
    "            if reducedXXXXb > 0 && matElemXXXX != 0.0+0.0im\n",
    "                # fill H\n",
    "                push!(I,bIndex);\n",
    "                push!(J,reducedXXXXb);\n",
    "                push!(M,matElemXXXX);\n",
    "            end;\n",
    "            \n",
    "            # (XX+YY)ZZ terms\n",
    "            raList::Array{Int64,1},matElList::Array{Complex128,1} = HbXXpYYZZa(b,bIndex,p,sp,basis,c,s,l);\n",
    "            \n",
    "            # loop over connected reduced states in raList\n",
    "            for ii::Int in 1:length(raList)\n",
    "                if raList[ii] > 0 && matElList[ii] != 0.0+0.0im\n",
    "                    # fill H\n",
    "                    push!(I,bIndex);\n",
    "                    push!(J,raList[ii]);\n",
    "                    push!(M,matElList[ii]);\n",
    "                end;\n",
    "            end;\n",
    "        end;\n",
    "    end;\n",
    "    \n",
    "    H::SparseMatrixCSC{Complex,Int64} = sparse(I,J,M,basis.dim,basis.dim);\n",
    "    return H;\n",
    "end;"
   ]
  },
  {
   "cell_type": "code",
   "execution_count": 28,
   "metadata": {
    "collapsed": false
   },
   "outputs": [
    {
     "name": "stdout",
     "output_type": "stream",
     "text": [
      "  3.235533 seconds (6.36 M allocations: 467.113 MB, 1.37% gc time)\n"
     ]
    }
   ],
   "source": [
    "# build the sparse Hamiltonian\n",
    "# takes 700 seconds for 6x4 J1-only Heisenberg model\n",
    "@time const H = constructSparseHam(basis,c,s,l);"
   ]
  },
  {
   "cell_type": "markdown",
   "metadata": {},
   "source": [
    "## Compute Eigenvalues"
   ]
  },
  {
   "cell_type": "code",
   "execution_count": 29,
   "metadata": {
    "collapsed": false
   },
   "outputs": [],
   "source": [
    "# parameters for eigenvalue calculation\n",
    "numEigs = 4;\n",
    "tolerance = 10.^(-5.);\n",
    "ritzVec = false;\n",
    "numKrylovVecs = 20;\n",
    "maxIter = 300;"
   ]
  },
  {
   "cell_type": "code",
   "execution_count": 30,
   "metadata": {
    "collapsed": false
   },
   "outputs": [
    {
     "name": "stdout",
     "output_type": "stream",
     "text": [
      "  3.255930 seconds (4.00 M allocations: 161.671 MB, 1.82% gc time)\n"
     ]
    }
   ],
   "source": [
    "# ~6.71 seconds for 6x4, numEigs=4, which=:SR, J1 Heisenberg Hamiltonian\n",
    "@time eigsResult = eigs(H; nev=numEigs,ncv=numKrylovVecs,maxiter=maxIter, which=:SR, tol=tolerance, ritzvec=ritzVec);  #:LM stands for largest magnitude, :SR for smallest real part\n",
    ";"
   ]
  },
  {
   "cell_type": "code",
   "execution_count": 31,
   "metadata": {
    "collapsed": false
   },
   "outputs": [
    {
     "name": "stdout",
     "output_type": "stream",
     "text": [
      "[-8.96981,-8.06103,-6.7027,-6.67496]"
     ]
    }
   ],
   "source": [
    "# energies\n",
    "print(real(eigsResult[1]));"
   ]
  },
  {
   "cell_type": "code",
   "execution_count": 32,
   "metadata": {
    "collapsed": false
   },
   "outputs": [
    {
     "name": "stdout",
     "output_type": "stream",
     "text": [
      "Number of iterations = 3\n",
      "Number of matrix-vector multiplications = 50\n"
     ]
    }
   ],
   "source": [
    "# algorithm performance\n",
    "print(\"Number of iterations = \",eigsResult[3],\"\\n\");\n",
    "print(\"Number of matrix-vector multiplications = \",eigsResult[4],\"\\n\");"
   ]
  },
  {
   "cell_type": "code",
   "execution_count": null,
   "metadata": {
    "collapsed": true
   },
   "outputs": [],
   "source": []
  }
 ],
 "metadata": {
  "anaconda-cloud": {},
  "kernelspec": {
   "display_name": "Julia 0.5.0",
   "language": "julia",
   "name": "julia-0.5"
  },
  "language_info": {
   "file_extension": ".jl",
   "mimetype": "application/julia",
   "name": "julia",
   "version": "0.5.0"
  }
 },
 "nbformat": 4,
 "nbformat_minor": 1
}
