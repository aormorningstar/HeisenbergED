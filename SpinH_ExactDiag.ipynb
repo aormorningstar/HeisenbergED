{
 "cells": [
  {
   "cell_type": "markdown",
   "metadata": {},
   "source": [
    "# Exact Diagonalization of Spin Hamiltonian\n",
    "    Alan Morningstar\n",
    "    May 2017"
   ]
  },
  {
   "cell_type": "markdown",
   "metadata": {},
   "source": [
    "#### specify lattice and Hamiltonian parameters"
   ]
  },
  {
   "cell_type": "code",
   "execution_count": 1,
   "metadata": {
    "collapsed": false
   },
   "outputs": [],
   "source": [
    "# NOTE: using periodic boundary conditions\n",
    "# square lattice length\n",
    "const Lx = 6;\n",
    "const Ly = 4;\n",
    "# number of sites\n",
    "const N = Lx*Ly;\n",
    "# NN coupling\n",
    "const J1 = 1.0;\n",
    "# plaquette coupling\n",
    "const K = 0.0;"
   ]
  },
  {
   "cell_type": "code",
   "execution_count": 2,
   "metadata": {
    "collapsed": false
   },
   "outputs": [],
   "source": [
    "# container for Hamiltonian couplings\n",
    "immutable couplings\n",
    "    # 1st nearest neighbor\n",
    "    J1::Float64;\n",
    "    # plaquette terms\n",
    "    K::Float64;\n",
    "end;"
   ]
  },
  {
   "cell_type": "code",
   "execution_count": 3,
   "metadata": {
    "collapsed": true
   },
   "outputs": [],
   "source": [
    "const c = couplings(J1,K);"
   ]
  },
  {
   "cell_type": "markdown",
   "metadata": {},
   "source": [
    "## Lattice and Bond Structure"
   ]
  },
  {
   "cell_type": "markdown",
   "metadata": {},
   "source": [
    "#### useful functions for defining the lattice connectivity"
   ]
  },
  {
   "cell_type": "code",
   "execution_count": 4,
   "metadata": {
    "collapsed": false
   },
   "outputs": [],
   "source": [
    "# convert single integer site index to xy indexing\n",
    "function xyIndex(site::Int64,Lx::Int64,Ly::Int64)\n",
    "    # site - number of the site for which x,y indices are computed\n",
    "\n",
    "    y::Int,x::Int = divrem(site-1,Lx);\n",
    "    \n",
    "    return x,y;\n",
    "end;"
   ]
  },
  {
   "cell_type": "code",
   "execution_count": 5,
   "metadata": {
    "collapsed": false
   },
   "outputs": [],
   "source": [
    "# convert xy site indexing to single integer index\n",
    "function siteIndex(xy::Tuple{Int,Int},Lx::Int64,Ly::Int64)\n",
    "    # xy - tuple containing x,y indexing of a site\n",
    "\n",
    "    x = xy[1];\n",
    "    y = xy[2];\n",
    "    \n",
    "    # move xy into primary lattice cell\n",
    "    while x > (Lx-1)\n",
    "        x -= Lx;\n",
    "    end;\n",
    "    while x < 0\n",
    "        x += Lx;\n",
    "    end;\n",
    "    while y > (Ly-1)\n",
    "        y -= Ly;\n",
    "    end;\n",
    "    while y < 0\n",
    "        y += Ly;\n",
    "    end;    \n",
    "    \n",
    "    # map to integer index\n",
    "    site::Int64 = y*Lx + x + 1;\n",
    "    \n",
    "    return site;\n",
    "end;"
   ]
  },
  {
   "cell_type": "code",
   "execution_count": 6,
   "metadata": {
    "collapsed": false
   },
   "outputs": [],
   "source": [
    "# find indices of neighbors specified by a translation vectors T\n",
    "function neighbors(site::Int64,T::Array{Tuple{Int64,Int64},1},Lx::Int64,Ly::Int64)\n",
    "    # use xy indexing just to compute neighbors\n",
    "    x::Int,y::Int = xyIndex(site,Lx,Ly);\n",
    "\n",
    "    # neighbor in xy indexing\n",
    "    neighborxy::Array{Tuple{Int,Int},1} = [(x+t[1],y+t[2]) for t in T];\n",
    "    \n",
    "    # back to single integer indexing\n",
    "    neighborIndex::Array{Int,1} = [siteIndex(nxy,Lx,Ly) for nxy in neighborxy];\n",
    "    \n",
    "    # return neighbor index\n",
    "    return neighborIndex;\n",
    "end;"
   ]
  },
  {
   "cell_type": "markdown",
   "metadata": {},
   "source": [
    "#### define the lattice"
   ]
  },
  {
   "cell_type": "code",
   "execution_count": 7,
   "metadata": {
    "collapsed": true
   },
   "outputs": [],
   "source": [
    "# plaquette sites corresponding to a given site (p1) in the bottom left of the plaquette\n",
    "# p3L indicates p3 on the plaquette to the left, similarly for p1D on the plaquette in the downwards direction\n",
    "#\n",
    "# p3L--p3--p4\n",
    "#   |  |Plq|\n",
    "# p1L--p1--p2\n",
    "#  |  |   |\n",
    "#   p1D p2D"
   ]
  },
  {
   "cell_type": "code",
   "execution_count": 8,
   "metadata": {
    "collapsed": false
   },
   "outputs": [],
   "source": [
    "# plaquette (x,y) vectors, locating p1,p2,p3,p4 on the plaquette of the p1 site and p1D,p2D,p1L,p3L on adjacent plaquettes\n",
    "const neighborVectors = [(0,0),(1,0),(0,1),(1,1),(0,-1),(1,-1),(-1,0),(-1,1)];"
   ]
  },
  {
   "cell_type": "code",
   "execution_count": 9,
   "metadata": {
    "collapsed": true
   },
   "outputs": [],
   "source": [
    "# container for lattice properties\n",
    "immutable lattice\n",
    "    # size of lattice, number of sites\n",
    "    Lx::Int64;\n",
    "    Ly::Int64;\n",
    "    N::Int64;\n",
    "    nbrs::Array{Array{Int64,1},1};\n",
    "    \n",
    "    function lattice(Lx::Int64,Ly::Int64,neighborVectors::Array{Tuple{Int64,Int64},1})\n",
    "        neighborsList = [neighbors(site,neighborVectors,Lx,Ly) for site in 1:N];\n",
    "        new(Lx,Ly,Lx*Ly,neighborsList);\n",
    "    end;\n",
    "end;"
   ]
  },
  {
   "cell_type": "code",
   "execution_count": 10,
   "metadata": {
    "collapsed": true
   },
   "outputs": [],
   "source": [
    "const l = lattice(Lx,Ly,neighborVectors);"
   ]
  },
  {
   "cell_type": "markdown",
   "metadata": {},
   "source": [
    "## Build $(S_z,k_x,k_y)$ Symmetry Sector Basis\n",
    "Note: see Sandvik's Computational Studies of Quantum Spin Systems"
   ]
  },
  {
   "cell_type": "markdown",
   "metadata": {},
   "source": [
    "#### specify symmetry sector"
   ]
  },
  {
   "cell_type": "code",
   "execution_count": 11,
   "metadata": {
    "collapsed": false
   },
   "outputs": [],
   "source": [
    "# choose Sz sector by specifying number of 1s in basis states\n",
    "const n1 = convert(Int,N/2);\n",
    "# choose kx,ky by specifying mi such that ki=2*pi*mi/Li where i=x,y ... mi is in 0:Li-1\n",
    "const mx = 0;\n",
    "const my = 0;\n",
    "const kx = 2*pi*mx/Lx;\n",
    "const ky = 2*pi*my/Ly;"
   ]
  },
  {
   "cell_type": "code",
   "execution_count": 12,
   "metadata": {
    "collapsed": false
   },
   "outputs": [],
   "source": [
    "# container for symmetry sector\n",
    "immutable sector\n",
    "    # number of 1 bits in the bit rep. of spin states in this sector\n",
    "    n1::Int64;\n",
    "    # momentum\n",
    "    kx::Float64;\n",
    "    ky::Float64;\n",
    "end;"
   ]
  },
  {
   "cell_type": "code",
   "execution_count": 13,
   "metadata": {
    "collapsed": false
   },
   "outputs": [],
   "source": [
    "const s = sector(n1,kx,ky);"
   ]
  },
  {
   "cell_type": "markdown",
   "metadata": {},
   "source": [
    "#### defining some useful functions for this section"
   ]
  },
  {
   "cell_type": "code",
   "execution_count": 14,
   "metadata": {
    "collapsed": false
   },
   "outputs": [],
   "source": [
    "# set a bit to 1\n",
    "function setBit(i::UInt64,bit::Int64)\n",
    "    return (i | (1 << UInt64(bit-1)))::UInt64;\n",
    "end;\n",
    "\n",
    "# set a bit to 0\n",
    "function clearBit(i::UInt64,bit::Int64)\n",
    "    return (i & (~(UInt64(1) << UInt64(bit-1))))::UInt64;\n",
    "end;\n",
    "\n",
    "# toggle a bit\n",
    "function toggleBit(i::UInt64,bit::Int64)\n",
    "    return (i $ (UInt64(1) << UInt64(bit-1)))::UInt64;\n",
    "end;\n",
    "\n",
    "# read a bit\n",
    "function readBit(i::UInt64,bit::Int64)\n",
    "    return ((i >> UInt64(bit-1)) & UInt64(1))::UInt64;\n",
    "end;\n",
    "\n",
    "# swap two bits\n",
    "function swapBits(i::UInt64,bit1::Int64,bit2::Int64)\n",
    "    if readBit(i,bit1) == readBit(i,bit2)\n",
    "        return i::UInt64;\n",
    "    else\n",
    "        return (i $ ( (UInt64(1)<<UInt64(bit1-1)) | (UInt64(1)<<UInt64(bit2-1)) ))::UInt64;\n",
    "    end;\n",
    "end;"
   ]
  },
  {
   "cell_type": "code",
   "execution_count": 15,
   "metadata": {
    "collapsed": false
   },
   "outputs": [],
   "source": [
    "# x translation operator\n",
    "function Tx(b::UInt64,l::lattice)\n",
    "    # loop over rows of the lattice\n",
    "    for y::Int in 0:l.Ly-1\n",
    "        # roll the row\n",
    "        for x::Int in l.Lx-1:-1:1\n",
    "            b = swapBits(b,y*l.Lx+1+x,y*l.Lx+x);\n",
    "        end;\n",
    "    end;\n",
    "    \n",
    "    return b::UInt64;\n",
    "end;\n",
    "\n",
    "# y translation operator\n",
    "function Ty(b::UInt64,l::lattice)\n",
    "    # loop over columns of the lattice\n",
    "    for x::Int in 0:l.Lx-1\n",
    "        # roll the column\n",
    "        for y::Int in l.Ly-1:-1:1\n",
    "            b = swapBits(b,y*l.Lx+x+1,(y-1)*l.Lx+x+1);\n",
    "        end;\n",
    "    end;\n",
    "    \n",
    "    return b::UInt64;\n",
    "end;"
   ]
  },
  {
   "cell_type": "code",
   "execution_count": 16,
   "metadata": {
    "collapsed": false
   },
   "outputs": [],
   "source": [
    "# count number of unique elements in an array\n",
    "function numUnique(Tbs::Array{UInt64,1})\n",
    "    # num unique elements\n",
    "    num::Int64 = 0;\n",
    "    # scan over elements looking in previous elements\n",
    "    for i in 1:length(Tbs)\n",
    "        if !(Tbs[i] in Tbs[1:i-1])\n",
    "            num += 1;\n",
    "        end;\n",
    "    end;\n",
    "    \n",
    "    return num::Int64;\n",
    "end;"
   ]
  },
  {
   "cell_type": "code",
   "execution_count": 17,
   "metadata": {
    "collapsed": false
   },
   "outputs": [],
   "source": [
    "# function for computing the normalization constant Na such that the momentum state is 1/sqrt(Na) * sum(phase * TxTy |b>)\n",
    "function normConstant(b::UInt64,l::lattice,s::sector)\n",
    "    \n",
    "    # sum of phases\n",
    "    F::Complex128 = 0.0+0.0im;\n",
    "    # normalization constant\n",
    "    Na::Float64 = 0.0;\n",
    "    # currrent translated state\n",
    "    Tb::UInt64 = b;\n",
    "    # set of translated states in integer rep.\n",
    "    Tbs::Array{UInt64,1} = Array{UInt64}(l.N);\n",
    "    \n",
    "    # perform all translations\n",
    "    for y in 0:l.Ly-1\n",
    "        for x in 0:l.Lx-1\n",
    "            # add to set of translated states\n",
    "            Tbs[y*Lx+x+1] = Tb;\n",
    "            \n",
    "            if Tb == b\n",
    "                # add to sum of phases\n",
    "                F += exp(-1.0im*(s.kx*x+s.ky*y));\n",
    "            elseif Tb < b\n",
    "                return 0.0\n",
    "            end;\n",
    "            \n",
    "            Tb = Tx(Tb,l);\n",
    "\n",
    "        end;\n",
    "        \n",
    "        Tb = Ty(Tb,l);\n",
    "        \n",
    "    end;\n",
    "    \n",
    "    # compute and return normalization constant\n",
    "    Na = abs2(F)*numUnique(Tbs);\n",
    "    \n",
    "    return Na;\n",
    "end;"
   ]
  },
  {
   "cell_type": "markdown",
   "metadata": {},
   "source": [
    "#### construct the basis"
   ]
  },
  {
   "cell_type": "code",
   "execution_count": 18,
   "metadata": {
    "collapsed": false
   },
   "outputs": [],
   "source": [
    "immutable SzkxkyBasis\n",
    "    # list of representatives of momentum basis states in integer representation\n",
    "    b::Array{UInt64};\n",
    "    # list of corresponding normalization constants\n",
    "    n::Array{Float64};\n",
    "    # dimension of Hilbert space\n",
    "    dim::Int64;\n",
    "    \n",
    "    # constructor\n",
    "    function SzkxkyBasis(l::lattice,s::sector)\n",
    "        # initialize list of reps of momentum basis elements\n",
    "        bList::Array{UInt64,1} = UInt64[];\n",
    "        # initialize list of normalization constants\n",
    "        nList::Array{Float64,1} = Float64[];\n",
    "\n",
    "        # run up the binary odometer of Sz states\n",
    "        # start with first n1 bits in state 1(down)\n",
    "        b::UInt64 = 2^n1-1;\n",
    "\n",
    "        while true\n",
    "            # check if this state meets the required kx,ky\n",
    "            n::Float64 = normConstant(b,l,s);\n",
    "\n",
    "            # if valid rep state, add info to basis\n",
    "            if n > 0.0\n",
    "                push!(bList,b);\n",
    "                push!(nList,n);\n",
    "            end;\n",
    "\n",
    "            # counter of 1 bits to the right (in binary convention)\n",
    "            i::Int = 0;\n",
    "            # position in bit array\n",
    "            bit::Int = 1;\n",
    "            while bit < l.N\n",
    "                # find a 1 bit whose following neighbor is 0\n",
    "                if readBit(b,bit) == 0x1\n",
    "                    if readBit(b,bit+1) == 0x1\n",
    "                        i += 1;\n",
    "                    else\n",
    "                        # shuffle bits over\n",
    "                        for J in 1:i\n",
    "                            b = setBit(b,J);\n",
    "                        end;\n",
    "                        for J in i+1:bit\n",
    "                            b = clearBit(b,J);\n",
    "                        end;\n",
    "                        b = setBit(b,bit+1);\n",
    "                        # then break to next loop\n",
    "                        break\n",
    "                    end;\n",
    "                end;\n",
    "                # to the next bit\n",
    "                bit += 1;\n",
    "            end;\n",
    "\n",
    "            # if all 1s got shifted completely to the left, then all states are explored\n",
    "            if bit == l.N\n",
    "                break\n",
    "            end;\n",
    "\n",
    "        end;\n",
    "        \n",
    "        # construct basis\n",
    "        new(bList,nList,length(bList));\n",
    "    end;\n",
    "    \n",
    "end;"
   ]
  },
  {
   "cell_type": "code",
   "execution_count": 19,
   "metadata": {
    "collapsed": false,
    "scrolled": true
   },
   "outputs": [
    {
     "name": "stdout",
     "output_type": "stream",
     "text": [
      "  2.704715 seconds (5.56 M allocations: 1.306 GB, 1.93% gc time)\n",
      "Dimension of reduced Hilbert space is 112800."
     ]
    }
   ],
   "source": [
    "# construct the Sz,kx,ky sector basis\n",
    "# 2.65 seconds for 6x4 lattice, basis is ~0.0002 GB\n",
    "@time const basis = SzkxkyBasis(l,s);\n",
    "print(\"Dimension of reduced Hilbert space is \",basis.dim,\".\");"
   ]
  },
  {
   "cell_type": "code",
   "execution_count": 20,
   "metadata": {
    "collapsed": false
   },
   "outputs": [],
   "source": [
    "# using ProfileView;"
   ]
  },
  {
   "cell_type": "code",
   "execution_count": 21,
   "metadata": {
    "collapsed": false
   },
   "outputs": [],
   "source": [
    "# Profile.clear();\n",
    "# @profile SzkxkyBasis(l,s);\n",
    "# ProfileView.view()"
   ]
  },
  {
   "cell_type": "markdown",
   "metadata": {},
   "source": [
    "#### some more useful functions for working with this basis"
   ]
  },
  {
   "cell_type": "code",
   "execution_count": 22,
   "metadata": {
    "collapsed": false
   },
   "outputs": [],
   "source": [
    "# search ordered basis for index of integer representation of spin state\n",
    "function basisIndex(b::UInt64,basis::SzkxkyBasis)\n",
    "    bIndex::UnitRange{Int64} = searchsorted(basis.b,b)::UnitRange{Int64};\n",
    "    if !isempty(bIndex)\n",
    "        return bIndex[1]::Int64;\n",
    "    else\n",
    "        return 0::Int64;\n",
    "    end;\n",
    "end;"
   ]
  },
  {
   "cell_type": "code",
   "execution_count": 23,
   "metadata": {
    "collapsed": false
   },
   "outputs": [],
   "source": [
    "# find related representative state and what translation relates the two states\n",
    "function representative(b::UInt64,l::lattice)\n",
    "    # rep. state\n",
    "    rep::UInt64 = b;\n",
    "    # translated state\n",
    "    Tb::UInt64 = b;\n",
    "    # translations to get to rep. state\n",
    "    lx::Int64 = 0;\n",
    "    ly::Int64 = 0;\n",
    "    \n",
    "    # perform all translations\n",
    "    for y::Int in 0:l.Ly-1\n",
    "        for x::Int in 0:l.Lx-1\n",
    "            \n",
    "            if Tb < rep\n",
    "                # then this is a better representative\n",
    "                rep = Tb;\n",
    "                lx = x;\n",
    "                ly = y;\n",
    "            end;\n",
    "            \n",
    "            Tb = Tx(Tb,l);\n",
    "        end;\n",
    "        Tb = Ty(Tb,l);\n",
    "    end;\n",
    "    \n",
    "    return rep::UInt64,lx::Int64,ly::Int64;\n",
    "end;"
   ]
  },
  {
   "cell_type": "markdown",
   "metadata": {},
   "source": [
    "## Sparse Hamiltonian\n",
    "$H=\\frac{1}{4} J_1 \\sum_{\\langle ij \\rangle} \\bf{\\sigma}_i \\cdot \\bf{\\sigma}_j + \\frac{1}{8} K \\sum_{p} \\left( \\bf{\\sigma}_{p_1} \\cdot \\bf{\\sigma}_{p_2} \\right) \\left( \\bf{\\sigma}_{p_3} \\cdot \\bf{\\sigma}_{p_4} \\right) + \\left( \\bf{\\sigma}_{p_1} \\cdot \\bf{\\sigma}_{p_3} \\right) \\left( \\bf{\\sigma}_{p_2} \\cdot \\bf{\\sigma}_{p_4} \\right) - \\left( \\bf{\\sigma}_{p_1} \\cdot \\bf{\\sigma}_{p_4} \\right) \\left( \\bf{\\sigma}_{p_2} \\cdot \\bf{\\sigma}_{p_3} \\right)$"
   ]
  },
  {
   "cell_type": "markdown",
   "metadata": {},
   "source": [
    "#### useful functions for computing states and matrix elements"
   ]
  },
  {
   "cell_type": "code",
   "execution_count": 24,
   "metadata": {
    "collapsed": false
   },
   "outputs": [],
   "source": [
    "# function for flipping two spins of a basis state\n",
    "function XiXj(b::UInt64,i::Int64,j::Int64)\n",
    "    # b - integer rep of state\n",
    "    # i,j - sites of spin flips\n",
    "    return b $ ( (UInt64(1)<<UInt64(i-1)) | (UInt64(1)<<UInt64(j-1)) );\n",
    "end;\n",
    "\n",
    "# function for flipping four spins of a basis state\n",
    "function XiXjXkXl(b::UInt64,i::Int,j::Int,k::Int,l::Int)\n",
    "    # b - integer rep of state\n",
    "    # i,j,k,l - sites of spin flips\n",
    "    return b $ ( (UInt64(1)<<UInt64(i-1)) | (UInt64(1)<<UInt64(j-1)) | (UInt64(1)<<UInt64(k-1)) | (UInt64(1)<<UInt64(l-1)) );\n",
    "end;\n",
    "\n",
    "# function for computing (-1)^(positive integer)\n",
    "function simplePower(i::UInt64)\n",
    "    if readBit(i,1) == UInt64(0)\n",
    "        return 1::Int64;\n",
    "    else\n",
    "        return -1::Int64;\n",
    "    end;\n",
    "end;"
   ]
  },
  {
   "cell_type": "markdown",
   "metadata": {},
   "source": [
    "#### construct the sparse Hamiltonian"
   ]
  },
  {
   "cell_type": "code",
   "execution_count": 25,
   "metadata": {
    "collapsed": false
   },
   "outputs": [],
   "source": [
    "# function for building the sparse Hamiltonian\n",
    "function constructSparseHam(basis::SzkxkyBasis,c::couplings,s::sector,l::lattice)\n",
    "    \n",
    "    # couplings\n",
    "    J1::Float64 = c.J1;\n",
    "    K::Float64 = c.K;\n",
    "    # momentum\n",
    "    kx::Float64 = s.kx;\n",
    "    ky::Float64 = s.ky;\n",
    "    \n",
    "    # store location and value of non-zero matrix elements\n",
    "    I::Array{Int64} = Int64[];\n",
    "    J::Array{Int64} = Int64[];\n",
    "    M::Array{Complex128} = Complex128[];\n",
    "    \n",
    "    # loop over basis\n",
    "    for bIndex::Int64 in 1:basis.dim\n",
    "        \n",
    "        # spin states of basis\n",
    "        b::UInt64 = basis.b[bIndex]; # integer rep.\n",
    "        sb::Array{UInt64,1} = [readBit(b,bit) for bit in 1:l.N]; # spin array rep.\n",
    "        # normalization constant\n",
    "        nb::Float64 = basis.n[bIndex];\n",
    "        \n",
    "        # initialize the diagonal matrix element\n",
    "        Hbb::Complex128 = 0.0 + 0.0im;\n",
    "\n",
    "        # loop over lattice sites\n",
    "        for site::Int64 in 1:N\n",
    "            \n",
    "            # spins at nearby sites p1,p2,p3,p4,p1D,p2D,p1L,p3L\n",
    "            p::Array{Int64,1} = l.nbrs[site];\n",
    "            sp::Array{UInt64,1} = sb[p];\n",
    "            # some common factors in the matrix elements\n",
    "            sPw12::Int64 = simplePower(sp[1] + sp[2]);\n",
    "            sPw34::Int64 = simplePower(sp[3] + sp[4]);\n",
    "            sPw13::Int64 = simplePower(sp[1] + sp[3]);\n",
    "            sPw24::Int64 = simplePower(sp[2] + sp[4]);\n",
    "            sPw14::Int64 = simplePower(sp[1] + sp[4]);\n",
    "            sPw23::Int64 = simplePower(sp[2] + sp[3]);\n",
    "            sPw1234::Int64 = simplePower(sp[1] + sp[2] + sp[3] + sp[4]);\n",
    "            sPw1D2D::Int64 = simplePower(sp[5] + sp[6]);\n",
    "            sPw1L3L::Int64 = simplePower(sp[7] + sp[8]);\n",
    "            \n",
    "            # contribute to the diagonal matrix element\n",
    "            # -----------------------------------------\n",
    "            Hbb += 0.25*J1*( sPw12 + sPw13 );\n",
    "            Hbb += 0.125*K*sPw1234;\n",
    "            \n",
    "            # compute off diagonal matrix elements\n",
    "            # ------------------------------------\n",
    "            \n",
    "            # the 12 term\n",
    "            if sPw12 == -1\n",
    "                # the bra\n",
    "                a12::UInt64 = XiXj(b,p[1],p[2]);\n",
    "                # the rep and transaltion of the bra\n",
    "                a12rep::UInt64,lx12::Int64,ly12::Int64 = representative(a12,l);\n",
    "                # search for this rep in the basis\n",
    "                a12repIndex::Int64 = basisIndex(a12rep,basis);\n",
    "                # the matrix element\n",
    "                Hsite12::Complex128 = 0.5*J1+0.125*K*(sPw34-sPw1234+2*sPw1D2D)*exp(-1.0im*(kx*lx12+ky*ly12))*sqrt(basis.n[a12repIndex]/nb);\n",
    "                \n",
    "                push!(I,bIndex);\n",
    "                push!(J,a12repIndex);\n",
    "                push!(M,Hsite12);\n",
    "            end;\n",
    "                \n",
    "            # the 13 term\n",
    "            if sPw13 == -1\n",
    "                # the bra\n",
    "                a13::UInt64 = XiXj(b,p[1],p[3]);\n",
    "                # the rep and transaltion of the bra\n",
    "                a13rep::UInt64,lx13::Int64,ly13::Int64 = representative(a13,l);\n",
    "                # search for this rep in the basis\n",
    "                a13repIndex::Int64 = basisIndex(a13rep,basis);\n",
    "                # the matrix element\n",
    "                Hsite13::Complex128 = 0.5*J1*+0.125*K*(sPw24-sPw1234+2*sPw1L3L)*exp(-1.0im*(kx*lx13+ky*ly13))*sqrt(basis.n[a13repIndex]/nb);\n",
    "                \n",
    "                push!(I,bIndex);\n",
    "                push!(J,a13repIndex);\n",
    "                push!(M,Hsite13);\n",
    "            end;\n",
    "                \n",
    "            # the 14 term\n",
    "            if sPw14 == -1\n",
    "                # the bra\n",
    "                a14::UInt64 = XiXj(b,p[1],p[4]);\n",
    "                # the rep and transaltion of the bra\n",
    "                a14rep::UInt64,lx14::Int64,ly14::Int64 = representative(a14,l);\n",
    "                # search for this rep in the basis\n",
    "                a14repIndex::Int64 = basisIndex(a14rep,basis);\n",
    "                # the matrix element\n",
    "                Hsite14::Complex128 = -0.250*K*sPw23*exp(-1.0im*(kx*lx14+ky*ly14))*sqrt(basis.n[a14repIndex]/nb);\n",
    "            \n",
    "                push!(I,bIndex);\n",
    "                push!(J,a14repIndex);\n",
    "                push!(M,Hsite14);\n",
    "            end;\n",
    "                \n",
    "            # the 23 term\n",
    "            if sPw23 == -1\n",
    "                # the bra\n",
    "                a23::UInt64 = XiXj(b,p[2],p[3]);\n",
    "                # the rep and transaltion of the bra\n",
    "                a23rep::UInt64,lx23::Int64,ly23::Int64 = representative(a23,l);\n",
    "                # search for this rep in the basis\n",
    "                a23repIndex::Int64 = basisIndex(a23rep,basis);\n",
    "                # the matrix element\n",
    "                Hsite23::Complex128 = -0.25*K*sPw14*exp(-1.0im*(kx*lx23+ky*ly23))*sqrt(basis.n[a23repIndex]/nb);\n",
    "           \n",
    "                push!(I,bIndex);\n",
    "                push!(J,a23repIndex);\n",
    "                push!(M,Hsite23);\n",
    "            end;\n",
    "                \n",
    "            # the 1234 term\n",
    "            if sp[1] + sp[2] + sp[3] + sp[4] == 2\n",
    "                # the bra\n",
    "                a1234::UInt64 = XiXjXkXl(b,p[1],p[2],p[3],p[4]);\n",
    "                # the rep and transaltion of the bra\n",
    "                a1234rep::UInt64,lx1234::Int64,ly1234::Int64 = representative(a1234,l);\n",
    "                # search for this rep in the basis\n",
    "                a1234repIndex::Int64 = basisIndex(a1234rep,basis);\n",
    "                # the matrix element\n",
    "                Hsite1234::Complex128 = 0.125*K*(2-sPw12-sPw34-sPw13-sPw24+sPw14+sPw23)*exp(-1.0im*(kx*lx1234+ky*ly1234))*sqrt(basis.n[a1234repIndex]/nb);\n",
    "            \n",
    "                push!(I,bIndex);\n",
    "                push!(J,a1234repIndex);\n",
    "                push!(M,Hsite1234);\n",
    "            end;\n",
    "\n",
    "        end;\n",
    "        \n",
    "        # push diagonal matrix element to list of matrix elements\n",
    "        push!(I,bIndex);\n",
    "        push!(J,bIndex);\n",
    "        push!(M,Hbb);\n",
    "        \n",
    "    end;\n",
    "    \n",
    "    H::SparseMatrixCSC{Complex,Int64} = sparse(I,J,M,basis.dim,basis.dim);\n",
    "    return H;\n",
    "end;"
   ]
  },
  {
   "cell_type": "code",
   "execution_count": 26,
   "metadata": {
    "collapsed": false
   },
   "outputs": [
    {
     "name": "stdout",
     "output_type": "stream",
     "text": [
      " 39.808238 seconds (35.26 M allocations: 1.517 GB, 1.12% gc time)\n"
     ]
    }
   ],
   "source": [
    "# build the sparse Hamiltonian\n",
    "# takes 237 seconds for 6x4 J1-only Heisenberg model, H contains ~0.06 GB\n",
    "@time const H = constructSparseHam(basis,c,s,l);"
   ]
  },
  {
   "cell_type": "code",
   "execution_count": 27,
   "metadata": {
    "collapsed": true
   },
   "outputs": [],
   "source": [
    "# using ProfileView"
   ]
  },
  {
   "cell_type": "code",
   "execution_count": 28,
   "metadata": {
    "collapsed": false,
    "scrolled": false
   },
   "outputs": [],
   "source": [
    "# Profile.clear();\n",
    "# @profile constructSparseHam(basis,c,s,l);\n",
    "# ProfileView.view()"
   ]
  },
  {
   "cell_type": "markdown",
   "metadata": {},
   "source": [
    "## Compute Eigenvalues"
   ]
  },
  {
   "cell_type": "code",
   "execution_count": 29,
   "metadata": {
    "collapsed": false
   },
   "outputs": [],
   "source": [
    "# parameters for eigenvalue calculation\n",
    "numEigs = 4;\n",
    "tolerance = 10.^(-5.);\n",
    "ritzVec = false;\n",
    "numKrylovVecs = 20;\n",
    "maxIter = 300;"
   ]
  },
  {
   "cell_type": "code",
   "execution_count": 30,
   "metadata": {
    "collapsed": false
   },
   "outputs": [
    {
     "name": "stdout",
     "output_type": "stream",
     "text": [
      "  8.037815 seconds (31.41 M allocations: 726.363 MB, 2.50% gc time)\n"
     ]
    }
   ],
   "source": [
    "# ~2.46 seconds for 6x4, numEigs=4, which=:SR, J1 Heisenberg Hamiltonian\n",
    "@time eigsResult = eigs(H; nev=numEigs,ncv=numKrylovVecs,maxiter=maxIter, which=:SR, tol=tolerance, ritzvec=ritzVec);  #:LM stands for largest magnitude, :SR for smallest real part\n",
    ";"
   ]
  },
  {
   "cell_type": "code",
   "execution_count": 31,
   "metadata": {
    "collapsed": false
   },
   "outputs": [
    {
     "name": "stdout",
     "output_type": "stream",
     "text": [
      "[-13.958,-11.6926,-11.2511,-11.2063]"
     ]
    }
   ],
   "source": [
    "# energies\n",
    "print(real(eigsResult[1]));"
   ]
  },
  {
   "cell_type": "code",
   "execution_count": 32,
   "metadata": {
    "collapsed": false
   },
   "outputs": [
    {
     "name": "stdout",
     "output_type": "stream",
     "text": [
      "Number of iterations = 4\n",
      "Number of matrix-vector multiplications = 65\n"
     ]
    }
   ],
   "source": [
    "# algorithm performance\n",
    "print(\"Number of iterations = \",eigsResult[3],\"\\n\");\n",
    "print(\"Number of matrix-vector multiplications = \",eigsResult[4],\"\\n\");"
   ]
  },
  {
   "cell_type": "code",
   "execution_count": null,
   "metadata": {
    "collapsed": true
   },
   "outputs": [],
   "source": []
  },
  {
   "cell_type": "code",
   "execution_count": null,
   "metadata": {
    "collapsed": true
   },
   "outputs": [],
   "source": []
  }
 ],
 "metadata": {
  "anaconda-cloud": {},
  "kernelspec": {
   "display_name": "Julia 0.5.0",
   "language": "julia",
   "name": "julia-0.5"
  },
  "language_info": {
   "file_extension": ".jl",
   "mimetype": "application/julia",
   "name": "julia",
   "version": "0.5.0"
  }
 },
 "nbformat": 4,
 "nbformat_minor": 1
}
