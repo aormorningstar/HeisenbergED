{
 "cells": [
  {
   "cell_type": "markdown",
   "metadata": {},
   "source": [
    "# Exact Diagonalization of $J$-$K$ Hamiltonian\n",
    "    Alan Morningstar\n",
    "    May 2017"
   ]
  },
  {
   "cell_type": "markdown",
   "metadata": {
    "collapsed": true
   },
   "source": [
    "## Include Source"
   ]
  },
  {
   "cell_type": "code",
   "execution_count": 1,
   "metadata": {
    "collapsed": false
   },
   "outputs": [],
   "source": [
    "include(\"utils.jl\");\n",
    "include(\"lattice.jl\");\n",
    "include(\"basis.jl\");\n",
    "include(\"sparseHermitian.jl\");\n",
    "include(\"sparseHam.jl\");\n",
    "include(\"sparseS2.jl\");"
   ]
  },
  {
   "cell_type": "markdown",
   "metadata": {},
   "source": [
    "## Main"
   ]
  },
  {
   "cell_type": "markdown",
   "metadata": {},
   "source": [
    "#### specify parameters"
   ]
  },
  {
   "cell_type": "code",
   "execution_count": 2,
   "metadata": {
    "collapsed": false
   },
   "outputs": [],
   "source": [
    "# square lattice length\n",
    "const Lx = 6;\n",
    "const Ly = 4;\n",
    "# number of sites\n",
    "const N = Lx*Ly;\n",
    "# NN coupling\n",
    "const J1 = 1.0;\n",
    "# NNN coupling\n",
    "const J2 = 1.0;\n",
    "# plaquette coupling\n",
    "const K = 1.0;\n",
    "\n",
    "# choose Sz sector by specifying number of 1s in basis states\n",
    "const n1 = convert(Int64,N/2);\n",
    "# choose kx,ky by specifying mi such that mi is in 0:Li-1\n",
    "const mx = 0;\n",
    "const my = 0;\n",
    "const kx = 2*pi*mx/Lx;\n",
    "const ky = 2*pi*my/Ly;\n",
    "\n",
    "# number of eigenvalues desired\n",
    "const numEigs = 6;\n",
    "# a tolerance for error\n",
    "const tolerance = 10.^(-5.);\n",
    "# ritzVec = true if you want the eigenvectors returned too\n",
    "const ritzVec = true;\n",
    "# number of Krylov vectors in eigenvalue calculation\n",
    "const numKrylovVecs = 20;\n",
    "# maximum number of iterations to converge eigenvalues\n",
    "const maxIter = 300;\n",
    "\n",
    "# plaquette (x,y) vectors, locating p1,p2,p3,p4 on the plaquette of the p1 site and p1D,p2D,p1L,p3L on adjacent plaquettes\n",
    "const neighborVectors = [(0,0),(1,0),(0,1),(1,1),(0,-1),(1,-1),(-1,0),(-1,1)];"
   ]
  },
  {
   "cell_type": "markdown",
   "metadata": {},
   "source": [
    "#### define lattice, symmetry sector, and basis"
   ]
  },
  {
   "cell_type": "code",
   "execution_count": 3,
   "metadata": {
    "collapsed": false
   },
   "outputs": [],
   "source": [
    "# define the lattice\n",
    "const l = lattice(Lx,Ly,neighborVectors);"
   ]
  },
  {
   "cell_type": "code",
   "execution_count": 4,
   "metadata": {
    "collapsed": false
   },
   "outputs": [],
   "source": [
    "# specify symmetry sector\n",
    "const s = sector(n1,kx,ky);"
   ]
  },
  {
   "cell_type": "code",
   "execution_count": 5,
   "metadata": {
    "collapsed": false
   },
   "outputs": [
    {
     "name": "stdout",
     "output_type": "stream",
     "text": [
      "  0.602045 seconds (2.79 M allocations: 875.330 MiB, 13.52% gc time)\n",
      "Dimension of reduced Hilbert space is 112800.\n"
     ]
    }
   ],
   "source": [
    "# construct the basis\n",
    "# 0.34 seconds for 6x4 lattice, basis is ~0.002 GB\n",
    "@time const basis = SzkxkyBasis(l,s);\n",
    "println(\"Dimension of reduced Hilbert space is \",basis.dim,\".\");"
   ]
  },
  {
   "cell_type": "code",
   "execution_count": 6,
   "metadata": {
    "collapsed": true
   },
   "outputs": [],
   "source": [
    "# using ProfileView;"
   ]
  },
  {
   "cell_type": "code",
   "execution_count": 7,
   "metadata": {
    "collapsed": false
   },
   "outputs": [],
   "source": [
    "# Profile.clear();\n",
    "# @profile SzkxkyBasis(l,s);\n",
    "# ProfileView.view()"
   ]
  },
  {
   "cell_type": "markdown",
   "metadata": {},
   "source": [
    "#### build the Hamiltonian"
   ]
  },
  {
   "cell_type": "code",
   "execution_count": 8,
   "metadata": {
    "collapsed": false
   },
   "outputs": [
    {
     "name": "stdout",
     "output_type": "stream",
     "text": [
      "  "
     ]
    }
   ],
   "source": [
    "# couplings type to make passing J1,K easier\n",
    "const c = couplings(J1,J2,K);\n",
    "\n",
    "# build the sparse Hamiltonian\n",
    "# takes 1.02 seconds for 6x4 Heisenberg model, H contains ~0.013 GB\n",
    "@time const H = constructSparseHam(basis,c,s,l);"
   ]
  },
  {
   "cell_type": "code",
   "execution_count": 9,
   "metadata": {
    "collapsed": false
   },
   "outputs": [
    {
     "name": "stdout",
     "output_type": "stream",
     "text": [
      "H: 0.028405588 GB of memory.\n"
     ]
    }
   ],
   "source": [
    "println(\"H: \",(sizeof(H.colPntrs)+sizeof(H.rowIndcs)+sizeof(H.nzVals)+sizeof(H.nzPntrs))/10^9,\" GB of memory.\");"
   ]
  },
  {
   "cell_type": "code",
   "execution_count": 10,
   "metadata": {
    "collapsed": false
   },
   "outputs": [],
   "source": [
    "# Hamiltonian memory\n",
    "# N=16 0.00015 GB\n",
    "# N=20 0.0020 GB\n",
    "# N=24 0.028 GB\n",
    "# N=30 1.6 GB\n",
    "# N=32 ~6.0 GB (extrapolated)\n",
    "# N=36 ~96 GB (extrapolated)"
   ]
  },
  {
   "cell_type": "code",
   "execution_count": 11,
   "metadata": {
    "collapsed": true
   },
   "outputs": [],
   "source": [
    "# using ProfileView;"
   ]
  },
  {
   "cell_type": "code",
   "execution_count": 12,
   "metadata": {
    "collapsed": false
   },
   "outputs": [],
   "source": [
    "# Profile.clear();\n",
    "# @profile constructSparseHam(basis,c,s,l);\n",
    "# ProfileView.view()"
   ]
  },
  {
   "cell_type": "markdown",
   "metadata": {},
   "source": [
    "#### find eigenvalues and eigenvectors"
   ]
  },
  {
   "cell_type": "code",
   "execution_count": 13,
   "metadata": {
    "collapsed": false
   },
   "outputs": [
    {
     "name": "stdout",
     "output_type": "stream",
     "text": [
      " 12"
     ]
    }
   ],
   "source": [
    "# compute eigenvalues\n",
    "# ~3.95 seconds for 6x4, numEigs=6, which=:SR, Heisenberg Hamiltonian\n",
    "@time eigsResult = eigs(H; nev=numEigs,ncv=numKrylovVecs,maxiter=maxIter, which=:SR, tol=tolerance, ritzvec=ritzVec);"
   ]
  },
  {
   "cell_type": "code",
   "execution_count": 14,
   "metadata": {
    "collapsed": false
   },
   "outputs": [
    {
     "name": "stdout",
     "output_type": "stream",
     "text": [
      "Energies are: [-21.8203, -20.1343, -19.5145, -18.195, -18.0284, -17.8536].\n",
      "Number of iterations = 6\n",
      "Number of matrix-vector multiplications = 10\n"
     ]
    }
   ],
   "source": [
    "# print energies\n",
    "println(\"Energies are: \",real(eigsResult[1]),\".\");\n",
    "# print algorithm performance\n",
    "println(\"Number of iterations = \",eigsResult[3]);\n",
    "println(\"Number of matrix-vector multiplications = \",eigsResult[4]);"
   ]
  },
  {
   "cell_type": "markdown",
   "metadata": {},
   "source": [
    "#### build the $S^2$ operator"
   ]
  },
  {
   "cell_type": "code",
   "execution_count": 15,
   "metadata": {
    "collapsed": false
   },
   "outputs": [
    {
     "name": "stdout",
     "output_type": "stream",
     "text": [
      "  "
     ]
    }
   ],
   "source": [
    "# takes 3.60 seconds for 6x4 lattice, S2 contains ~0.066 GB\n",
    "@time const S2 = constructSparseS2(basis,s,l);"
   ]
  },
  {
   "cell_type": "code",
   "execution_count": 16,
   "metadata": {
    "collapsed": false
   },
   "outputs": [
    {
     "name": "stdout",
     "output_type": "stream",
     "text": [
      "S^2: 0.066353452 GB of memory.\n"
     ]
    }
   ],
   "source": [
    "println(\"S^2: \",(sizeof(S2.colPntrs)+sizeof(S2.rowIndcs)+sizeof(S2.nzVals)+sizeof(S2.nzPntrs))/10^9,\" GB of memory.\");"
   ]
  },
  {
   "cell_type": "code",
   "execution_count": 17,
   "metadata": {
    "collapsed": false
   },
   "outputs": [],
   "source": [
    "# Total Spin memory\n",
    "# N=16 0.00022 GB\n",
    "# N=20 0.0038 GB\n",
    "# N=24 0.066 GB\n",
    "# N=30 4.7 GB\n",
    "# N=32 ~18 GB (extrapolated)\n",
    "# N=36 ~288 GB (extrapolated)"
   ]
  },
  {
   "cell_type": "markdown",
   "metadata": {},
   "source": [
    "#### save spectral data\n",
    "Save in format |  E  |  S(S+1)  |  Sz  |  mx  |  my  |"
   ]
  },
  {
   "cell_type": "code",
   "execution_count": 18,
   "metadata": {
    "collapsed": false
   },
   "outputs": [],
   "source": [
    "using DataFrames;"
   ]
  },
  {
   "cell_type": "code",
   "execution_count": 19,
   "metadata": {
    "collapsed": false
   },
   "outputs": [],
   "source": [
    "# energies\n",
    "EData = real(eigsResult[1]);\n",
    "# Sz values\n",
    "SzData = fill((N-2*n1)/2,numEigs);\n",
    "# mx values\n",
    "mxData = fill(mx,numEigs);\n",
    "# my values\n",
    "myData = fill(my,numEigs);"
   ]
  },
  {
   "cell_type": "code",
   "execution_count": 20,
   "metadata": {
    "collapsed": false
   },
   "outputs": [],
   "source": [
    "# S(S+1) values\n",
    "S2Data = zeros(Int64,numEigs);\n",
    "psi = Array{Complex128,1}(basis.dim);\n",
    "S2psi = Array{Complex128,1}(basis.dim);\n",
    "for i in 1:numEigs\n",
    "    psi = eigsResult[2][:,i];\n",
    "    A_mul_B!(S2psi,S2,psi);\n",
    "    S2Data[i] = round(Int64,real(dot(psi,S2psi))[1]);\n",
    "end;"
   ]
  },
  {
   "cell_type": "code",
   "execution_count": 21,
   "metadata": {
    "collapsed": false
   },
   "outputs": [],
   "source": [
    "# create DataFrame\n",
    "df = DataFrame(E=EData,Ssqrd=S2Data,Sz=SzData,mx=mxData,my=myData);"
   ]
  },
  {
   "cell_type": "code",
   "execution_count": 22,
   "metadata": {
    "collapsed": false
   },
   "outputs": [
    {
     "name": "stdout",
     "output_type": "stream",
     "text": [
      "6×5 DataFrames.DataFrame\n",
      "│ Row │ E        │ Ssqrd │ Sz  │ mx │ my │\n",
      "├─────┼──────────┼───────┼─────┼────┼────┤\n",
      "│ 1   │ -21.8203 │ 0     │ 0.0 │ 0  │ 0  │\n",
      "│ 2   │ -20.1343 │ 6     │ 0.0 │ 0  │ 0  │\n",
      "│ 3   │ -19.5145 │ 6     │ 0.0 │ 0  │ 0  │\n",
      "│ 4   │ -18.195  │ 0     │ 0.0 │ 0  │ 0  │\n",
      "│ 5   │ -18.0284 │ 0     │ 0.0 │ 0  │ 0  │\n",
      "│ 6   │ -17.8536 │ 12    │ 0.0 │ 0  │ 0  │\n"
     ]
    }
   ],
   "source": [
    "println(df)"
   ]
  },
  {
   "cell_type": "code",
   "execution_count": 23,
   "metadata": {
    "collapsed": false
   },
   "outputs": [],
   "source": [
    "# dataFileName = \"specData/Sz=\" * string(SzData[1]) * \"_mx=\" * string(mxData[1]) * \"_my=\" * string(myData[1]) * \".csv\";"
   ]
  },
  {
   "cell_type": "code",
   "execution_count": 24,
   "metadata": {
    "collapsed": true
   },
   "outputs": [],
   "source": [
    "# writetable(dataFileName, df)\n",
    "# df1 = readtable(\"specData/Sz=0.0_mx=0_my=0.csv\");"
   ]
  },
  {
   "cell_type": "code",
   "execution_count": null,
   "metadata": {
    "collapsed": true
   },
   "outputs": [],
   "source": []
  }
 ],
 "metadata": {
  "anaconda-cloud": {},
  "kernelspec": {
   "display_name": "Julia 0.6.0",
   "language": "julia",
   "name": "julia-0.6"
  },
  "language_info": {
   "file_extension": ".jl",
   "mimetype": "application/julia",
   "name": "julia",
   "version": "0.6.0"
  }
 },
 "nbformat": 4,
 "nbformat_minor": 1
}
