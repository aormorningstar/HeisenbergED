{
 "cells": [
  {
   "cell_type": "markdown",
   "metadata": {},
   "source": [
    "# Exact Diagonalization of $J$-$K$ Hamiltonian\n",
    "    Alan Morningstar\n",
    "    May 2017"
   ]
  },
  {
   "cell_type": "markdown",
   "metadata": {
    "collapsed": true
   },
   "source": [
    "## Include Source"
   ]
  },
  {
   "cell_type": "code",
   "execution_count": 1,
   "metadata": {
    "collapsed": false
   },
   "outputs": [],
   "source": [
    "include(\"utils.jl\")\n",
    "include(\"lattice.jl\")\n",
    "include(\"basis.jl\")\n",
    "include(\"sparseHermitian.jl\")\n",
    "include(\"sparseHam.jl\")\n",
    "include(\"sparseS2.jl\");"
   ]
  },
  {
   "cell_type": "markdown",
   "metadata": {},
   "source": [
    "## Main"
   ]
  },
  {
   "cell_type": "markdown",
   "metadata": {},
   "source": [
    "#### specify parameters"
   ]
  },
  {
   "cell_type": "code",
   "execution_count": 2,
   "metadata": {
    "collapsed": false
   },
   "outputs": [],
   "source": [
    "# square lattice length\n",
    "const Lx = 4\n",
    "const Ly = 4\n",
    "# number of sites\n",
    "const N = Lx*Ly\n",
    "# NN coupling\n",
    "const J1 = 1.0\n",
    "# NNN coupling\n",
    "const J2 = 0.4\n",
    "# plaquette coupling\n",
    "const K = 0.3\n",
    "\n",
    "# choose Sz sector\n",
    "const Sz = 0\n",
    "# choose kx,ky by specifying mi such that mi is in 0:Li-1\n",
    "const mx = 0\n",
    "const my = 0\n",
    "const kx = 2*pi*mx/Lx\n",
    "const ky = 2*pi*my/Ly\n",
    "# choose spin inversion quantum number\n",
    "const z = 1\n",
    "\n",
    "# number of eigenvalues desired\n",
    "const numEigs = 4\n",
    "# a tolerance for error\n",
    "const tolerance = 10.^(-8.)\n",
    "# ritzVec = true if you want the eigenvectors returned too\n",
    "const ritzVec = true\n",
    "# number of Krylov vectors in eigenvalue calculation\n",
    "const numKrylovVecs = 40\n",
    "# maximum number of iterations to converge eigenvalues\n",
    "const maxIter = 200\n",
    "\n",
    "# plaquette (x,y) vectors, locating p1,p2,p3,p4 on the plaquette of the p1 site and p1D,p2D,p1L,p3L on adjacent plaquettes\n",
    "const neighborVectors = [(0,0),(1,0),(0,1),(1,1),(0,-1),(1,-1),(-1,0),(-1,1)];"
   ]
  },
  {
   "cell_type": "markdown",
   "metadata": {},
   "source": [
    "#### define lattice, symmetry sector, and basis"
   ]
  },
  {
   "cell_type": "code",
   "execution_count": 3,
   "metadata": {
    "collapsed": false
   },
   "outputs": [],
   "source": [
    "# define the lattice\n",
    "const l = lattice(Lx,Ly,neighborVectors);"
   ]
  },
  {
   "cell_type": "code",
   "execution_count": 4,
   "metadata": {
    "collapsed": false
   },
   "outputs": [],
   "source": [
    "# specify symmetry sector\n",
    "const s = sector(Sz,kx,ky,z);"
   ]
  },
  {
   "cell_type": "code",
   "execution_count": 5,
   "metadata": {
    "collapsed": false
   },
   "outputs": [
    {
     "name": "stdout",
     "output_type": "stream",
     "text": [
      "  0.152352 seconds (164.93 k allocations: 7.699 MB, 5.78% gc time)\n",
      "Dimension of reduced Hilbert space is 441.\n"
     ]
    }
   ],
   "source": [
    "# construct the basis\n",
    "# 0.34 seconds for 6x4 lattice, basis is ~0.002 GB\n",
    "@time const basis = reducedBasis{UInt64}(l,s)\n",
    "println(\"Dimension of reduced Hilbert space is \",basis.dim,\".\");"
   ]
  },
  {
   "cell_type": "code",
   "execution_count": 6,
   "metadata": {
    "collapsed": false
   },
   "outputs": [
    {
     "data": {
      "text/plain": [
       "7.056e-6"
      ]
     },
     "execution_count": 6,
     "metadata": {},
     "output_type": "execute_result"
    }
   ],
   "source": [
    "(sizeof(basis.b)+sizeof(basis.n))/10^9"
   ]
  },
  {
   "cell_type": "code",
   "execution_count": 18,
   "metadata": {
    "collapsed": false
   },
   "outputs": [],
   "source": [
    "# basis memory and time\n",
    "# N=16 0.0000071 GB, 0.0034 s\n",
    "# N=20 0.000074 GB, 0.052 s\n",
    "# N=24 0.00091 GB, 0.75 s\n",
    "# N=30 0.041 GB, 43 s\n",
    "# N=32 ~ 0.15 GB, 2.9 m (extrapolated)\n",
    "# N=36 ~ 1.7 GB, 45 m (extrapolated)"
   ]
  },
  {
   "cell_type": "code",
   "execution_count": 8,
   "metadata": {
    "collapsed": true
   },
   "outputs": [],
   "source": [
    "# using ProfileView"
   ]
  },
  {
   "cell_type": "code",
   "execution_count": 9,
   "metadata": {
    "collapsed": false
   },
   "outputs": [],
   "source": [
    "# Profile.clear()\n",
    "# @profile SzkxkyBasis(l,s)\n",
    "# ProfileView.view()"
   ]
  },
  {
   "cell_type": "markdown",
   "metadata": {},
   "source": [
    "#### build the Hamiltonian"
   ]
  },
  {
   "cell_type": "code",
   "execution_count": 10,
   "metadata": {
    "collapsed": false
   },
   "outputs": [
    {
     "name": "stdout",
     "output_type": "stream",
     "text": [
      "  0.619155 seconds (663.35 k allocations: 23.633 MB, 1.38% gc time)\n"
     ]
    }
   ],
   "source": [
    "# couplings type to make passing J1,K easier\n",
    "const c = couplings(J1,J2,K)\n",
    "\n",
    "# build the sparse Hamiltonian\n",
    "# takes 0.95 seconds for 6x4 Heisenberg model, H contains ~0.013 GB\n",
    "@time const H = constructSparseHam(basis,c,s,l);"
   ]
  },
  {
   "cell_type": "code",
   "execution_count": 11,
   "metadata": {
    "collapsed": false
   },
   "outputs": [
    {
     "name": "stdout",
     "output_type": "stream",
     "text": [
      "H: 8.4584e-5 GB of memory.\n"
     ]
    }
   ],
   "source": [
    "println(\"H: \",(sizeof(H.colPntrs)+sizeof(H.rowIndcs)+sizeof(H.nzVals)+sizeof(H.nzPntrs))/10^9,\" GB of memory.\")"
   ]
  },
  {
   "cell_type": "code",
   "execution_count": 35,
   "metadata": {
    "collapsed": false
   },
   "outputs": [],
   "source": [
    "# Hamiltonian memory and time\n",
    "# N=16 0.000084 GB, 0.0057 s\n",
    "# N=20 0.0010 GB, 0.093 s\n",
    "# N=24 0.015 GB, 1.2 s\n",
    "# N=30 0.81 GB, 79 s\n",
    "# N=32 ~ 2.9 GB, 5.3 m (extrapolated)\n",
    "# N=36 ~ 45 GB, 1.4 h (extrapolated)"
   ]
  },
  {
   "cell_type": "code",
   "execution_count": 12,
   "metadata": {
    "collapsed": true
   },
   "outputs": [],
   "source": [
    "# using ProfileView"
   ]
  },
  {
   "cell_type": "code",
   "execution_count": 13,
   "metadata": {
    "collapsed": false
   },
   "outputs": [],
   "source": [
    "# Profile.clear()\n",
    "# @profile constructSparseHam(basis,c,s,l)\n",
    "# ProfileView.view()"
   ]
  },
  {
   "cell_type": "markdown",
   "metadata": {},
   "source": [
    "#### construct on the fly $H |\\psi \\rangle$ operator"
   ]
  },
  {
   "cell_type": "code",
   "execution_count": 14,
   "metadata": {
    "collapsed": true
   },
   "outputs": [],
   "source": [
    "# using LinearMaps"
   ]
  },
  {
   "cell_type": "code",
   "execution_count": 15,
   "metadata": {
    "collapsed": true
   },
   "outputs": [],
   "source": [
    "# H_psi!(y::AbstractVector,x::AbstractVector) = H_mul_psi!(basis,c,s,l,y,x)"
   ]
  },
  {
   "cell_type": "code",
   "execution_count": 16,
   "metadata": {
    "collapsed": false
   },
   "outputs": [],
   "source": [
    "# HLM = LinearMap(H_psi!, basis.dim, Complex128, ismutating=true, ishermitian=true)"
   ]
  },
  {
   "cell_type": "markdown",
   "metadata": {},
   "source": [
    "#### find eigenvalues and eigenvectors"
   ]
  },
  {
   "cell_type": "code",
   "execution_count": 17,
   "metadata": {
    "collapsed": false
   },
   "outputs": [
    {
     "name": "stdout",
     "output_type": "stream",
     "text": [
      "  1.821323 seconds (2.18 M allocations: 85.549 MB, 1.52% gc time)\n"
     ]
    }
   ],
   "source": [
    "# compute eigenvalues\n",
    "@time eigsResult = eigs(H; nev=numEigs,ncv=numKrylovVecs,maxiter=maxIter, which=:SR, tol=tolerance, ritzvec=ritzVec);"
   ]
  },
  {
   "cell_type": "code",
   "execution_count": 44,
   "metadata": {
    "collapsed": false
   },
   "outputs": [],
   "source": [
    "# Lanczos time\n",
    "# N=16 0.037 s\n",
    "# N=20 0.41 s\n",
    "# N=24 6.2 s\n",
    "# N=30 6.6 m -- ?18 m? (seemed to take ~2GB memory looking at activity monitor, time might be slow due to memory limitations of laptop)\n",
    "# N=32 ~26 m (extrap.)\n",
    "# N=36 ~6.9 h (extrap.)"
   ]
  },
  {
   "cell_type": "code",
   "execution_count": 19,
   "metadata": {
    "collapsed": true
   },
   "outputs": [],
   "source": [
    "# using ProfileView"
   ]
  },
  {
   "cell_type": "code",
   "execution_count": 20,
   "metadata": {
    "collapsed": false
   },
   "outputs": [],
   "source": [
    "# Profile.clear()\n",
    "# @profile eigs(HLM; nev=numEigs,ncv=numKrylovVecs,maxiter=maxIter, which=:SR, tol=tolerance, ritzvec=ritzVec)\n",
    "# ProfileView.view()"
   ]
  },
  {
   "cell_type": "code",
   "execution_count": 21,
   "metadata": {
    "collapsed": false,
    "scrolled": true
   },
   "outputs": [
    {
     "name": "stdout",
     "output_type": "stream",
     "text": [
      "Energies are: \n",
      "-6.994896080039556\n",
      "-6.735843696892471\n",
      "-6.73079053979335\n",
      "-6.208232626070167\n",
      "Number of iterations = 4\n",
      "Number of matrix-vector multiplications = 3\n"
     ]
    }
   ],
   "source": [
    "# print energies\n",
    "println(\"Energies are: \")\n",
    "for en in real(eigsResult[1])\n",
    "    println(en)\n",
    "end\n",
    "# print algorithm performance\n",
    "println(\"Number of iterations = \",eigsResult[3])\n",
    "println(\"Number of matrix-vector multiplications = \",eigsResult[4])"
   ]
  },
  {
   "cell_type": "code",
   "execution_count": 22,
   "metadata": {
    "collapsed": false
   },
   "outputs": [],
   "source": [
    "# # if we can check vs the dense diagonalization, do so\n",
    "# if N <= 16\n",
    "#     const Hdense = constructDenseHam(basis,c,s,l)\n",
    "#     ens = sort!(real(eigvals(Hdense)))\n",
    "#     println(\"Energies are: \")\n",
    "#     for en in ens[1:2*numEigs]\n",
    "#         println(en)\n",
    "#     end\n",
    "# end"
   ]
  },
  {
   "cell_type": "markdown",
   "metadata": {},
   "source": [
    "#### compute $S^2$ values and save spectral data\n",
    "Save in format |  E  |  S(S+1)  |  Sz  |  mx  |  my  |  z  |"
   ]
  },
  {
   "cell_type": "code",
   "execution_count": 26,
   "metadata": {
    "collapsed": false
   },
   "outputs": [
    {
     "name": "stderr",
     "output_type": "stream",
     "text": [
      "WARNING: Method definition describe(AbstractArray) in module StatsBase at /Users/aormorningstar/.julia/v0.5/StatsBase/src/scalarstats.jl:560 overwritten in module DataFrames at /Users/aormorningstar/.julia/v0.5/DataFrames/src/abstractdataframe/abstractdataframe.jl:407.\n"
     ]
    }
   ],
   "source": [
    "using DataFrames"
   ]
  },
  {
   "cell_type": "code",
   "execution_count": 27,
   "metadata": {
    "collapsed": false
   },
   "outputs": [],
   "source": [
    "# energies\n",
    "EData = real(eigsResult[1])\n",
    "# Sz values\n",
    "SzData = fill(Sz,numEigs)\n",
    "# mx values\n",
    "mxData = fill(mx,numEigs)\n",
    "# my values\n",
    "myData = fill(my,numEigs)\n",
    "# z values\n",
    "zData = fill(z,numEigs);"
   ]
  },
  {
   "cell_type": "code",
   "execution_count": 28,
   "metadata": {
    "collapsed": false
   },
   "outputs": [
    {
     "name": "stdout",
     "output_type": "stream",
     "text": [
      "  0.195934 seconds (154.56 k allocations: 5.573 MB)\n"
     ]
    }
   ],
   "source": [
    "# S(S+1) values\n",
    "@time S2Data = round(Int64,real(S2expectations(basis,s,l,eigsResult[2])));"
   ]
  },
  {
   "cell_type": "code",
   "execution_count": 50,
   "metadata": {
    "collapsed": false
   },
   "outputs": [],
   "source": [
    "# total spin calculation time\n",
    "# N=16 0.0056 s\n",
    "# N=20 0.14 s\n",
    "# N=24 2.5 s\n",
    "# N=30 4.6 m\n",
    "# N=32 ~ m (extrap.)\n",
    "# N=36 ~9.8 h (extrap.)"
   ]
  },
  {
   "cell_type": "code",
   "execution_count": 30,
   "metadata": {
    "collapsed": false
   },
   "outputs": [
    {
     "data": {
      "text/html": [
       "<table class=\"data-frame\"><thead><tr><th></th><th>E</th><th>Ssqrd</th><th>Sz</th><th>mx</th><th>my</th><th>z</th></tr></thead><tbody><tr><th>1</th><td>-6.994896080039556</td><td>0</td><td>0</td><td>0</td><td>0</td><td>1</td></tr><tr><th>2</th><td>-6.735843696892471</td><td>0</td><td>0</td><td>0</td><td>0</td><td>1</td></tr><tr><th>3</th><td>-6.73079053979335</td><td>0</td><td>0</td><td>0</td><td>0</td><td>1</td></tr><tr><th>4</th><td>-6.208232626070167</td><td>6</td><td>0</td><td>0</td><td>0</td><td>1</td></tr></tbody></table>"
      ],
      "text/plain": [
       "4×6 DataFrames.DataFrame\n",
       "│ Row │ E        │ Ssqrd │ Sz │ mx │ my │ z │\n",
       "├─────┼──────────┼───────┼────┼────┼────┼───┤\n",
       "│ 1   │ -6.9949  │ 0     │ 0  │ 0  │ 0  │ 1 │\n",
       "│ 2   │ -6.73584 │ 0     │ 0  │ 0  │ 0  │ 1 │\n",
       "│ 3   │ -6.73079 │ 0     │ 0  │ 0  │ 0  │ 1 │\n",
       "│ 4   │ -6.20823 │ 6     │ 0  │ 0  │ 0  │ 1 │"
      ]
     },
     "execution_count": 30,
     "metadata": {},
     "output_type": "execute_result"
    }
   ],
   "source": [
    "# create DataFrame\n",
    "df = DataFrame(E=EData,Ssqrd=S2Data,Sz=SzData,mx=mxData,my=myData,z=zData)"
   ]
  },
  {
   "cell_type": "code",
   "execution_count": null,
   "metadata": {
    "collapsed": true
   },
   "outputs": [],
   "source": []
  }
 ],
 "metadata": {
  "anaconda-cloud": {},
  "kernelspec": {
   "display_name": "Julia 0.5.2",
   "language": "julia",
   "name": "julia-0.5"
  },
  "language_info": {
   "file_extension": ".jl",
   "mimetype": "application/julia",
   "name": "julia",
   "version": "0.5.2"
  }
 },
 "nbformat": 4,
 "nbformat_minor": 1
}
