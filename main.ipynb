{
 "cells": [
  {
   "cell_type": "markdown",
   "metadata": {},
   "source": [
    "# Exact Diagonalization of $J$-$K$ Hamiltonian\n",
    "    Alan Morningstar\n",
    "    May 2017"
   ]
  },
  {
   "cell_type": "markdown",
   "metadata": {
    "collapsed": true
   },
   "source": [
    "## Include Source"
   ]
  },
  {
   "cell_type": "code",
   "execution_count": 1,
   "metadata": {
    "collapsed": false
   },
   "outputs": [],
   "source": [
    "include(\"utils.jl\");\n",
    "include(\"lattice.jl\");\n",
    "include(\"basis.jl\");\n",
    "include(\"sparseHam.jl\");"
   ]
  },
  {
   "cell_type": "markdown",
   "metadata": {},
   "source": [
    "## Main"
   ]
  },
  {
   "cell_type": "markdown",
   "metadata": {},
   "source": [
    "#### specify parameters"
   ]
  },
  {
   "cell_type": "code",
   "execution_count": 2,
   "metadata": {
    "collapsed": false
   },
   "outputs": [],
   "source": [
    "# square lattice length\n",
    "const Lx = 6;\n",
    "const Ly = 4;\n",
    "# number of sites\n",
    "const N = Lx*Ly;\n",
    "# NN coupling\n",
    "const J1 = 1.0;\n",
    "# plaquette coupling\n",
    "const K = 1.0;\n",
    "\n",
    "# choose Sz sector by specifying number of 1s in basis states\n",
    "const n1 = convert(Int64,N/2);\n",
    "# choose kx,ky by specifying mi such that mi is in 0:Li-1\n",
    "const mx = 0;\n",
    "const my = 0;\n",
    "const kx = 2*pi*mx/Lx;\n",
    "const ky = 2*pi*my/Ly;\n",
    "\n",
    "# number of eigenvalues desired\n",
    "const numEigs = 4;\n",
    "# a tolerance for error\n",
    "const tolerance = 10.^(-5.);\n",
    "# ritzVec = true if you want the eigenvectors returned too\n",
    "const ritzVec = false;\n",
    "# number of Krylov vectors in eigenvalue calculation\n",
    "const numKrylovVecs = 20;\n",
    "# maximum number of iterations to converge eigenvalues\n",
    "const maxIter = 300;\n",
    "\n",
    "# plaquette (x,y) vectors, locating p1,p2,p3,p4 on the plaquette of the p1 site and p1D,p2D,p1L,p3L on adjacent plaquettes\n",
    "const neighborVectors = [(0,0),(1,0),(0,1),(1,1),(0,-1),(1,-1),(-1,0),(-1,1)];"
   ]
  },
  {
   "cell_type": "markdown",
   "metadata": {},
   "source": [
    "#### define lattice, symmetry sector, and basis"
   ]
  },
  {
   "cell_type": "code",
   "execution_count": 3,
   "metadata": {
    "collapsed": false
   },
   "outputs": [],
   "source": [
    "# define the lattice\n",
    "const l = lattice(Lx,Ly,neighborVectors);"
   ]
  },
  {
   "cell_type": "code",
   "execution_count": 4,
   "metadata": {
    "collapsed": false
   },
   "outputs": [],
   "source": [
    "# specify symmetry sector\n",
    "const s = sector(n1,kx,ky);"
   ]
  },
  {
   "cell_type": "code",
   "execution_count": 6,
   "metadata": {
    "collapsed": false
   },
   "outputs": [
    {
     "name": "stdout",
     "output_type": "stream",
     "text": [
      "  0.350718 seconds (2.70 M allocations: 870.507 MB, 6.31% gc time)\n",
      "Dimension of reduced Hilbert space is 112800.\n"
     ]
    },
    {
     "name": "stderr",
     "output_type": "stream",
     "text": [
      "WARNING: redefining constant basis\n"
     ]
    }
   ],
   "source": [
    "# construct the basis\n",
    "# 0.35 seconds for 6x4 lattice, basis is ~0.002 GB\n",
    "@time const basis = SzkxkyBasis(l,s);\n",
    "println(\"Dimension of reduced Hilbert space is \",basis.dim,\".\");"
   ]
  },
  {
   "cell_type": "code",
   "execution_count": 7,
   "metadata": {
    "collapsed": true
   },
   "outputs": [],
   "source": [
    "# using ProfileView;"
   ]
  },
  {
   "cell_type": "code",
   "execution_count": 8,
   "metadata": {
    "collapsed": false
   },
   "outputs": [],
   "source": [
    "# Profile.clear();\n",
    "# @profile SzkxkyBasis(l,s);\n",
    "# ProfileView.view()"
   ]
  },
  {
   "cell_type": "markdown",
   "metadata": {},
   "source": [
    "#### build the Hamiltonian"
   ]
  },
  {
   "cell_type": "code",
   "execution_count": 10,
   "metadata": {
    "collapsed": false
   },
   "outputs": [
    {
     "name": "stdout",
     "output_type": "stream",
     "text": [
      "  2.347533 seconds (8.46 M allocations: 664.384 MB, 3.63% gc time)\n"
     ]
    },
    {
     "name": "stderr",
     "output_type": "stream",
     "text": [
      "WARNING: redefining constant H\n"
     ]
    }
   ],
   "source": [
    "# couplings type to make passing J1,K easier\n",
    "const c = couplings(J1,K);\n",
    "\n",
    "# build the sparse Hamiltonian\n",
    "# takes 2.35 seconds for 6x4 full J1-K Heisenberg model, H contains ~0.14 GB\n",
    "@time const H = constructSparseHam(basis,c,s,l);"
   ]
  },
  {
   "cell_type": "code",
   "execution_count": 11,
   "metadata": {
    "collapsed": true
   },
   "outputs": [],
   "source": [
    "# using ProfileView;"
   ]
  },
  {
   "cell_type": "code",
   "execution_count": 12,
   "metadata": {
    "collapsed": false
   },
   "outputs": [],
   "source": [
    "# Profile.clear();\n",
    "# @profile constructSparseHam(basis,c,s,l);\n",
    "# ProfileView.view()"
   ]
  },
  {
   "cell_type": "markdown",
   "metadata": {},
   "source": [
    "#### find eigenvalues"
   ]
  },
  {
   "cell_type": "code",
   "execution_count": 15,
   "metadata": {
    "collapsed": false
   },
   "outputs": [
    {
     "name": "stdout",
     "output_type": "stream",
     "text": [
      "  4.178262 seconds (934 allocations: 41.790 MB, 0.17% gc time)\n"
     ]
    }
   ],
   "source": [
    "# compute eigenvalues\n",
    "# ~4.18 seconds for 6x4, numEigs=4, which=:SR, full J1-K Heisenberg Hamiltonian\n",
    "@time eigsResult = eigs(H; nev=numEigs,ncv=numKrylovVecs,maxiter=maxIter, which=:SR, tol=tolerance, ritzvec=ritzVec);"
   ]
  },
  {
   "cell_type": "code",
   "execution_count": 16,
   "metadata": {
    "collapsed": false
   },
   "outputs": [
    {
     "name": "stdout",
     "output_type": "stream",
     "text": [
      "Energies are: [-16.5249,-15.7523,-15.5834,-15.1798].\n",
      "Number of iterations = 7\n",
      "Number of matrix-vector multiplications = 107\n"
     ]
    }
   ],
   "source": [
    "# print energies\n",
    "println(\"Energies are: \",real(eigsResult[1]),\".\");\n",
    "# print algorithm performance\n",
    "println(\"Number of iterations = \",eigsResult[3]);\n",
    "println(\"Number of matrix-vector multiplications = \",eigsResult[4]);"
   ]
  },
  {
   "cell_type": "code",
   "execution_count": null,
   "metadata": {
    "collapsed": true
   },
   "outputs": [],
   "source": []
  }
 ],
 "metadata": {
  "anaconda-cloud": {},
  "kernelspec": {
   "display_name": "Julia 0.5.0",
   "language": "julia",
   "name": "julia-0.5"
  },
  "language_info": {
   "file_extension": ".jl",
   "mimetype": "application/julia",
   "name": "julia",
   "version": "0.5.0"
  }
 },
 "nbformat": 4,
 "nbformat_minor": 1
}
