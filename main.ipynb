{
 "cells": [
  {
   "cell_type": "markdown",
   "metadata": {},
   "source": [
    "# Exact Diagonalization of $J$-$K$ Hamiltonian\n",
    "    Alan Morningstar\n",
    "    May 2017"
   ]
  },
  {
   "cell_type": "markdown",
   "metadata": {
    "collapsed": true
   },
   "source": [
    "## Include Source"
   ]
  },
  {
   "cell_type": "code",
   "execution_count": 1,
   "metadata": {
    "collapsed": false
   },
   "outputs": [],
   "source": [
    "include(\"utils.jl\");\n",
    "include(\"lattice.jl\");\n",
    "include(\"basis.jl\");\n",
    "include(\"sparseHermitian.jl\");\n",
    "include(\"sparseHam.jl\");\n",
    "include(\"sparseS2.jl\");"
   ]
  },
  {
   "cell_type": "markdown",
   "metadata": {},
   "source": [
    "## Main"
   ]
  },
  {
   "cell_type": "markdown",
   "metadata": {},
   "source": [
    "#### specify parameters"
   ]
  },
  {
   "cell_type": "code",
   "execution_count": 2,
   "metadata": {
    "collapsed": false
   },
   "outputs": [],
   "source": [
    "# square lattice length\n",
    "const Lx = 4;\n",
    "const Ly = 4;\n",
    "# number of sites\n",
    "const N = Lx*Ly;\n",
    "# NN coupling\n",
    "const J1 = 1.0;\n",
    "# NNN coupling\n",
    "const J2 = 0.0;\n",
    "# plaquette coupling\n",
    "const K = 0.0;\n",
    "\n",
    "# choose Sz sector\n",
    "const Sz = 0;\n",
    "# choose kx,ky by specifying mi such that mi is in 0:Li-1\n",
    "const mx = 2;\n",
    "const my = 2;\n",
    "const kx = 2*pi*mx/Lx;\n",
    "const ky = 2*pi*my/Ly;\n",
    "# choose spin inversion quantum number\n",
    "const z = -1;\n",
    "\n",
    "# number of eigenvalues desired\n",
    "const numEigs = 4;\n",
    "# a tolerance for error\n",
    "const tolerance = 10.^(-12.);\n",
    "# ritzVec = true if you want the eigenvectors returned too\n",
    "const ritzVec = true;\n",
    "# number of Krylov vectors in eigenvalue calculation\n",
    "const numKrylovVecs = 60;\n",
    "# maximum number of iterations to converge eigenvalues\n",
    "const maxIter = 200;\n",
    "\n",
    "# plaquette (x,y) vectors, locating p1,p2,p3,p4 on the plaquette of the p1 site and p1D,p2D,p1L,p3L on adjacent plaquettes\n",
    "const neighborVectors = [(0,0),(1,0),(0,1),(1,1),(0,-1),(1,-1),(-1,0),(-1,1)];"
   ]
  },
  {
   "cell_type": "markdown",
   "metadata": {},
   "source": [
    "#### define lattice, symmetry sector, and basis"
   ]
  },
  {
   "cell_type": "code",
   "execution_count": 3,
   "metadata": {
    "collapsed": false
   },
   "outputs": [],
   "source": [
    "# define the lattice\n",
    "const l = lattice(Lx,Ly,neighborVectors);"
   ]
  },
  {
   "cell_type": "code",
   "execution_count": 4,
   "metadata": {
    "collapsed": false
   },
   "outputs": [],
   "source": [
    "# specify symmetry sector\n",
    "const s = sector(Sz,kx,ky,z);"
   ]
  },
  {
   "cell_type": "code",
   "execution_count": 5,
   "metadata": {
    "collapsed": false
   },
   "outputs": [
    {
     "name": "stdout",
     "output_type": "stream",
     "text": [
      "  0.177193 seconds (164.93 k allocations: 7.099 MB, 31.73% gc time)\n",
      "Dimension of reduced Hilbert space is 386.\n"
     ]
    }
   ],
   "source": [
    "# construct the basis\n",
    "# 0.34 seconds for 6x4 lattice, basis is ~0.002 GB\n",
    "@time const basis = reducedBasis{UInt64}(l,s);\n",
    "println(\"Dimension of reduced Hilbert space is \",basis.dim,\".\");"
   ]
  },
  {
   "cell_type": "code",
   "execution_count": 6,
   "metadata": {
    "collapsed": false
   },
   "outputs": [
    {
     "data": {
      "text/plain": [
       "6.176e-6"
      ]
     },
     "execution_count": 6,
     "metadata": {},
     "output_type": "execute_result"
    }
   ],
   "source": [
    "(sizeof(basis.b)+sizeof(basis.n))/10^9"
   ]
  },
  {
   "cell_type": "code",
   "execution_count": 7,
   "metadata": {
    "collapsed": true
   },
   "outputs": [],
   "source": [
    "# using ProfileView;"
   ]
  },
  {
   "cell_type": "code",
   "execution_count": 8,
   "metadata": {
    "collapsed": false
   },
   "outputs": [],
   "source": [
    "# Profile.clear();\n",
    "# @profile SzkxkyBasis(l,s);\n",
    "# ProfileView.view()"
   ]
  },
  {
   "cell_type": "markdown",
   "metadata": {},
   "source": [
    "#### build the Hamiltonian"
   ]
  },
  {
   "cell_type": "code",
   "execution_count": 9,
   "metadata": {
    "collapsed": false
   },
   "outputs": [
    {
     "name": "stdout",
     "output_type": "stream",
     "text": [
      "  0.689419 seconds (655.22 k allocations: 23.262 MB, 0.80% gc time)\n"
     ]
    }
   ],
   "source": [
    "# couplings type to make passing J1,K easier\n",
    "const c = couplings(J1,J2,K);\n",
    "\n",
    "# build the sparse Hamiltonian\n",
    "# takes 0.95 seconds for 6x4 Heisenberg model, H contains ~0.013 GB\n",
    "@time const H = constructSparseHam(basis,c,s,l);"
   ]
  },
  {
   "cell_type": "code",
   "execution_count": 10,
   "metadata": {
    "collapsed": false
   },
   "outputs": [
    {
     "name": "stdout",
     "output_type": "stream",
     "text": [
      "H: 3.1904e-5 GB of memory.\n"
     ]
    }
   ],
   "source": [
    "println(\"H: \",(sizeof(H.colPntrs)+sizeof(H.rowIndcs)+sizeof(H.nzVals)+sizeof(H.nzPntrs))/10^9,\" GB of memory.\");"
   ]
  },
  {
   "cell_type": "code",
   "execution_count": 11,
   "metadata": {
    "collapsed": false
   },
   "outputs": [],
   "source": [
    "# Hamiltonian memory and time\n",
    "# N=16 0.00015 GB, 0.012 s\n",
    "# N=20 0.0020 GB, 0.15 s\n",
    "# N=24 0.028 GB, 1.96 s\n",
    "# N=30 1.6 GB\n",
    "# N=32 ~6.0 GB, 8.4 m (extrapolated)\n",
    "# N=36 ~96 GB, 2.2 h (extrapolated)"
   ]
  },
  {
   "cell_type": "code",
   "execution_count": 12,
   "metadata": {
    "collapsed": false
   },
   "outputs": [],
   "source": [
    "# using ProfileView;"
   ]
  },
  {
   "cell_type": "code",
   "execution_count": 13,
   "metadata": {
    "collapsed": false
   },
   "outputs": [],
   "source": [
    "# Profile.clear();\n",
    "# @profile constructSparseHam(basis,c,s,l);\n",
    "# ProfileView.view()"
   ]
  },
  {
   "cell_type": "markdown",
   "metadata": {},
   "source": [
    "#### construct on the fly $H |\\psi \\rangle$ operator"
   ]
  },
  {
   "cell_type": "code",
   "execution_count": 14,
   "metadata": {
    "collapsed": true
   },
   "outputs": [],
   "source": [
    "# using LinearMaps;"
   ]
  },
  {
   "cell_type": "code",
   "execution_count": 15,
   "metadata": {
    "collapsed": true
   },
   "outputs": [],
   "source": [
    "# H_psi!(y::AbstractVector,x::AbstractVector) = H_mul_psi!(basis,c,s,l,y,x);"
   ]
  },
  {
   "cell_type": "code",
   "execution_count": 16,
   "metadata": {
    "collapsed": false
   },
   "outputs": [],
   "source": [
    "# HLM = LinearMap(H_psi!, basis.dim, Complex128, ismutating=true, ishermitian=true);"
   ]
  },
  {
   "cell_type": "markdown",
   "metadata": {},
   "source": [
    "#### find eigenvalues and eigenvectors"
   ]
  },
  {
   "cell_type": "code",
   "execution_count": 17,
   "metadata": {
    "collapsed": false
   },
   "outputs": [
    {
     "name": "stdout",
     "output_type": "stream",
     "text": [
      "  1.765660 seconds (2.18 M allocations: 85.715 MB, 1.35% gc time)\n"
     ]
    }
   ],
   "source": [
    "# compute eigenvalues\n",
    "# ~3.80 seconds for 6x4, numEigs=6, which=:SR, Heisenberg Hamiltonian\n",
    "@time eigsResult = eigs(H; nev=numEigs,ncv=numKrylovVecs,maxiter=maxIter, which=:SR, tol=tolerance, ritzvec=ritzVec);"
   ]
  },
  {
   "cell_type": "code",
   "execution_count": 18,
   "metadata": {
    "collapsed": true
   },
   "outputs": [],
   "source": [
    "# using ProfileView;"
   ]
  },
  {
   "cell_type": "code",
   "execution_count": 19,
   "metadata": {
    "collapsed": false
   },
   "outputs": [],
   "source": [
    "# Profile.clear();\n",
    "# @profile eigs(HLM; nev=numEigs,ncv=numKrylovVecs,maxiter=maxIter, which=:SR, tol=tolerance, ritzvec=ritzVec);\n",
    "# ProfileView.view()"
   ]
  },
  {
   "cell_type": "code",
   "execution_count": 23,
   "metadata": {
    "collapsed": false,
    "scrolled": true
   },
   "outputs": [
    {
     "name": "stdout",
     "output_type": "stream",
     "text": [
      "Energies are: \n",
      "-10.649884872663453\n",
      "-7.836537573479887\n",
      "-7.3743978428830825\n",
      "-6.632899657242488\n",
      "Number of iterations = 4\n",
      "Number of matrix-vector multiplications = 2\n"
     ]
    }
   ],
   "source": [
    "# print energies\n",
    "println(\"Energies are: \");\n",
    "for en in real(eigsResult[1])\n",
    "    println(en);\n",
    "end;\n",
    "# print algorithm performance\n",
    "println(\"Number of iterations = \",eigsResult[3]);\n",
    "println(\"Number of matrix-vector multiplications = \",eigsResult[4]);"
   ]
  },
  {
   "cell_type": "code",
   "execution_count": 25,
   "metadata": {
    "collapsed": false
   },
   "outputs": [],
   "source": [
    "# # if we can check vs the dense diagonalization, do so\n",
    "# if N <= 16\n",
    "#     const Hdense = constructDenseHam(basis,c,s,l);\n",
    "#     ens = sort!(real(eigvals(Hdense)));\n",
    "#     println(\"Energies are: \");\n",
    "#     for en in ens[1:2*numEigs]\n",
    "#         println(en);\n",
    "#     end;\n",
    "# end;"
   ]
  },
  {
   "cell_type": "code",
   "execution_count": 26,
   "metadata": {
    "collapsed": false
   },
   "outputs": [],
   "source": [
    "# Lanczos time\n",
    "# N=16 0.038 s\n",
    "# N=20 0.53 s\n",
    "# N=24 8.6 s\n",
    "# N=30 \n",
    "# N=32 ~37 m (extrap.)\n",
    "# N=36 ~ 10 h (extrap.)"
   ]
  },
  {
   "cell_type": "markdown",
   "metadata": {},
   "source": [
    "#### build the $S^2$ operator"
   ]
  },
  {
   "cell_type": "code",
   "execution_count": 27,
   "metadata": {
    "collapsed": false
   },
   "outputs": [],
   "source": [
    "# takes 3.60 seconds for 6x4 lattice, S2 contains ~0.066 GB\n",
    "# @time const S2 = constructSparseS2(basis,s,l);"
   ]
  },
  {
   "cell_type": "code",
   "execution_count": 28,
   "metadata": {
    "collapsed": false
   },
   "outputs": [],
   "source": [
    "# println(\"S^2: \",(sizeof(S2.colPntrs)+sizeof(S2.rowIndcs)+sizeof(S2.nzVals)+sizeof(S2.nzPntrs))/10^9,\" GB of memory.\");"
   ]
  },
  {
   "cell_type": "code",
   "execution_count": 29,
   "metadata": {
    "collapsed": false
   },
   "outputs": [],
   "source": [
    "# Total Spin memory\n",
    "# N=16 0.00022 GB\n",
    "# N=20 0.0038 GB\n",
    "# N=24 0.066 GB\n",
    "# N=30 4.7 GB\n",
    "# N=32 ~18 GB (extrapolated)\n",
    "# N=36 ~288 GB (extrapolated)"
   ]
  },
  {
   "cell_type": "markdown",
   "metadata": {},
   "source": [
    "#### save spectral data\n",
    "Save in format |  E  |  S(S+1)  |  Sz  |  mx  |  my  |"
   ]
  },
  {
   "cell_type": "code",
   "execution_count": 30,
   "metadata": {
    "collapsed": false
   },
   "outputs": [
    {
     "name": "stderr",
     "output_type": "stream",
     "text": [
      "WARNING: Method definition describe(AbstractArray) in module StatsBase at /Users/aormorningstar/.julia/v0.5/StatsBase/src/scalarstats.jl:560 overwritten in module DataFrames at /Users/aormorningstar/.julia/v0.5/DataFrames/src/abstractdataframe/abstractdataframe.jl:407.\n"
     ]
    }
   ],
   "source": [
    "using DataFrames;"
   ]
  },
  {
   "cell_type": "code",
   "execution_count": 31,
   "metadata": {
    "collapsed": false
   },
   "outputs": [],
   "source": [
    "# energies\n",
    "EData = real(eigsResult[1]);\n",
    "# Sz values\n",
    "SzData = fill(Sz,numEigs);\n",
    "# mx values\n",
    "mxData = fill(mx,numEigs);\n",
    "# my values\n",
    "myData = fill(my,numEigs);\n",
    "# z values\n",
    "zData = fill(z,numEigs);"
   ]
  },
  {
   "cell_type": "code",
   "execution_count": 36,
   "metadata": {
    "collapsed": false
   },
   "outputs": [
    {
     "name": "stdout",
     "output_type": "stream",
     "text": [
      "  0.026721 seconds (744 allocations: 71.741 KB)\n"
     ]
    }
   ],
   "source": [
    "# S(S+1) values\n",
    "S2Data = zeros(Int64,numEigs);\n",
    "psi = Array{Complex128,1}(basis.dim);\n",
    "S2psi = Array{Complex128,1}(basis.dim);\n",
    "@time for i in 1:numEigs\n",
    "    psi = eigsResult[2][:,i];\n",
    "    # A_mul_B!(S2psi,S2,psi);\n",
    "    S2_mul_psi!(basis,s,l,S2psi,psi);\n",
    "    S2Data[i] = round(Int64,real(dot(psi,S2psi))[1]);\n",
    "end;"
   ]
  },
  {
   "cell_type": "code",
   "execution_count": 37,
   "metadata": {
    "collapsed": false
   },
   "outputs": [],
   "source": [
    "# time to compute total spin of energy eigenstates\n",
    "# N=16 0.061 s\n",
    "# N=20 0.99 s\n",
    "# N=24 20 s\n",
    "# N=30 \n",
    "# N=32 ~ 85 m (extrap.)\n",
    "# N=36 ~ 23 h (extrap.)"
   ]
  },
  {
   "cell_type": "code",
   "execution_count": 38,
   "metadata": {
    "collapsed": false
   },
   "outputs": [],
   "source": [
    "# create DataFrame\n",
    "df = DataFrame(E=EData,Ssqrd=S2Data,Sz=SzData,mx=mxData,my=myData);"
   ]
  },
  {
   "cell_type": "code",
   "execution_count": 39,
   "metadata": {
    "collapsed": false
   },
   "outputs": [
    {
     "name": "stdout",
     "output_type": "stream",
     "text": [
      "4×5 DataFrames.DataFrame\n",
      "│ Row │ E        │ Ssqrd │ Sz │ mx │ my │\n",
      "├─────┼──────────┼───────┼────┼────┼────┤\n",
      "│ 1   │ -10.6499 │ 2     │ 0  │ 2  │ 2  │\n",
      "│ 2   │ -7.83654 │ 12    │ 0  │ 2  │ 2  │\n",
      "│ 3   │ -7.3744  │ 2     │ 0  │ 2  │ 2  │\n",
      "│ 4   │ -6.6329  │ 2     │ 0  │ 2  │ 2  │\n"
     ]
    }
   ],
   "source": [
    "println(df)"
   ]
  },
  {
   "cell_type": "code",
   "execution_count": null,
   "metadata": {
    "collapsed": true
   },
   "outputs": [],
   "source": []
  }
 ],
 "metadata": {
  "anaconda-cloud": {},
  "kernelspec": {
   "display_name": "Julia 0.5.2",
   "language": "julia",
   "name": "julia-0.5"
  },
  "language_info": {
   "file_extension": ".jl",
   "mimetype": "application/julia",
   "name": "julia",
   "version": "0.5.2"
  }
 },
 "nbformat": 4,
 "nbformat_minor": 1
}
